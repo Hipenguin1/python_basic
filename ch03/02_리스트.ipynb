{
 "metadata": {
  "language_info": {
   "codemirror_mode": {
    "name": "ipython",
    "version": 3
   },
   "file_extension": ".py",
   "mimetype": "text/x-python",
   "name": "python",
   "nbconvert_exporter": "python",
   "pygments_lexer": "ipython3",
   "version": "3.8.5"
  },
  "orig_nbformat": 2,
  "kernelspec": {
   "name": "python385jvsc74a57bd08c1eae21719a0790335dcb83aad72b63b602cfe5cdb2bda0f60bc11d4f154e4b",
   "display_name": "Python 3.8.5 64-bit ('CPB06GameN': virtualenv)"
  }
 },
 "nbformat": 4,
 "nbformat_minor": 2,
 "cells": [
  {
   "source": [
    "#### 리스트 하나의 변수에 여러값을 할당하는 자료형 . 시퀀스 자료형  : 여러자료를 순서대로 넣음"
   ],
   "cell_type": "markdown",
   "metadata": {}
  },
  {
   "cell_type": "code",
   "execution_count": 4,
   "metadata": {},
   "outputs": [],
   "source": [
    "colors = ['red','green','blue',0xffffff] #리스트는 형태가 다양한 타입이 올 수 있다. "
   ]
  },
  {
   "source": [
    "### 인덱싱"
   ],
   "cell_type": "markdown",
   "metadata": {}
  },
  {
   "cell_type": "code",
   "execution_count": 5,
   "metadata": {},
   "outputs": [
    {
     "output_type": "execute_result",
     "data": {
      "text/plain": [
       "('blue', 'blue')"
      ]
     },
     "metadata": {},
     "execution_count": 5
    }
   ],
   "source": [
    "colors[2], colors[-2]"
   ]
  },
  {
   "source": [
    "### 인덱싱 슬라이싱: 리스트의 인덱스를 사용하여 전체 리스트에서 일부를 잘라내어 반환 "
   ],
   "cell_type": "markdown",
   "metadata": {}
  },
  {
   "cell_type": "code",
   "execution_count": 16,
   "metadata": {},
   "outputs": [
    {
     "output_type": "execute_result",
     "data": {
      "text/plain": [
       "['서울', '부산', '인천']"
      ]
     },
     "metadata": {},
     "execution_count": 16
    }
   ],
   "source": [
    "cities =['서울','부산','인천','대구','대전','광주','울산','세종']\n",
    "cities[0:3]"
   ]
  },
  {
   "cell_type": "code",
   "execution_count": 17,
   "metadata": {},
   "outputs": [
    {
     "output_type": "execute_result",
     "data": {
      "text/plain": [
       "['서울', '부산', '인천']"
      ]
     },
     "metadata": {},
     "execution_count": 17
    }
   ],
   "source": [
    "# 시작의 0, 끝의 -1은 생략가능\n",
    "cities[:3]"
   ]
  },
  {
   "cell_type": "code",
   "execution_count": 19,
   "metadata": {},
   "outputs": [
    {
     "output_type": "execute_result",
     "data": {
      "text/plain": [
       "(['광주', '울산'], ['광주', '울산', '세종'])"
      ]
     },
     "metadata": {},
     "execution_count": 19
    }
   ],
   "source": [
    "cities[5:-1], cities[5:]"
   ]
  },
  {
   "cell_type": "code",
   "execution_count": 21,
   "metadata": {},
   "outputs": [
    {
     "output_type": "execute_result",
     "data": {
      "text/plain": [
       "['서울', '인천', '대전', '울산']"
      ]
     },
     "metadata": {},
     "execution_count": 21
    }
   ],
   "source": [
    "#시작 :  끝 \n",
    "cities[::2] #한칸씩 더 "
   ]
  },
  {
   "cell_type": "code",
   "execution_count": 22,
   "metadata": {},
   "outputs": [
    {
     "output_type": "execute_result",
     "data": {
      "text/plain": [
       "['세종', '울산']"
      ]
     },
     "metadata": {},
     "execution_count": 22
    }
   ],
   "source": [
    "cities[7:5:-1] #리버스 인덱스"
   ]
  },
  {
   "cell_type": "code",
   "execution_count": 24,
   "metadata": {},
   "outputs": [
    {
     "output_type": "execute_result",
     "data": {
      "text/plain": [
       "['서울', '부산', '인천', '대구', '대전', '광주', '울산', '세종']"
      ]
     },
     "metadata": {},
     "execution_count": 24
    }
   ],
   "source": [
    "# 인덱스 범위를 넘어가는 슬라이싱\n",
    "cities[-10:10]"
   ]
  },
  {
   "source": [
    "### 연산"
   ],
   "cell_type": "markdown",
   "metadata": {}
  },
  {
   "cell_type": "code",
   "execution_count": 26,
   "metadata": {},
   "outputs": [],
   "source": [
    "color1 = ['red','green','blue']\n",
    "color2 = ['orange','black','white']"
   ]
  },
  {
   "cell_type": "code",
   "execution_count": 28,
   "metadata": {},
   "outputs": [
    {
     "output_type": "execute_result",
     "data": {
      "text/plain": [
       "3"
      ]
     },
     "metadata": {},
     "execution_count": 28
    }
   ],
   "source": [
    "len(color1)"
   ]
  },
  {
   "cell_type": "code",
   "execution_count": 30,
   "metadata": {},
   "outputs": [
    {
     "output_type": "execute_result",
     "data": {
      "text/plain": [
       "['red', 'green', 'blue', 'orange', 'black', 'white']"
      ]
     },
     "metadata": {},
     "execution_count": 30
    }
   ],
   "source": [
    "color1+color2"
   ]
  },
  {
   "cell_type": "code",
   "execution_count": 31,
   "metadata": {},
   "outputs": [
    {
     "output_type": "execute_result",
     "data": {
      "text/plain": [
       "['red', 'green', 'blue', 'orange', 'black', 'white']"
      ]
     },
     "metadata": {},
     "execution_count": 31
    }
   ],
   "source": [
    "total_color = color1 + color2\n",
    "total_color"
   ]
  },
  {
   "cell_type": "code",
   "execution_count": 34,
   "metadata": {},
   "outputs": [
    {
     "output_type": "execute_result",
     "data": {
      "text/plain": [
       "['red', 'green', 'blue', 'red', 'green', 'blue']"
      ]
     },
     "metadata": {},
     "execution_count": 34
    }
   ],
   "source": [
    "color1 * 2 #반복"
   ]
  },
  {
   "cell_type": "code",
   "execution_count": 36,
   "metadata": {},
   "outputs": [
    {
     "output_type": "execute_result",
     "data": {
      "text/plain": [
       "(True, False)"
      ]
     },
     "metadata": {},
     "execution_count": 36
    }
   ],
   "source": [
    "'red' in color1, 'red' in color2"
   ]
  },
  {
   "cell_type": "code",
   "execution_count": 37,
   "metadata": {},
   "outputs": [
    {
     "output_type": "execute_result",
     "data": {
      "text/plain": [
       "False"
      ]
     },
     "metadata": {},
     "execution_count": 37
    }
   ],
   "source": [
    "'red' not in color1"
   ]
  },
  {
   "source": [
    "### 리스트의 추가 및 삭제(다양한 메소드)"
   ],
   "cell_type": "markdown",
   "metadata": {}
  },
  {
   "source": [
    "### CRUD create retrieve update delete"
   ],
   "cell_type": "markdown",
   "metadata": {}
  },
  {
   "source": [
    "### a.append"
   ],
   "cell_type": "markdown",
   "metadata": {}
  },
  {
   "cell_type": "code",
   "execution_count": 41,
   "metadata": {},
   "outputs": [
    {
     "output_type": "execute_result",
     "data": {
      "text/plain": [
       "['red', 'green', 'blue']"
      ]
     },
     "metadata": {},
     "execution_count": 41
    }
   ],
   "source": [
    "color = ['red','green','blue']\n",
    "color"
   ]
  },
  {
   "cell_type": "code",
   "execution_count": 42,
   "metadata": {},
   "outputs": [
    {
     "output_type": "execute_result",
     "data": {
      "text/plain": [
       "['red', 'green', 'blue', 'white']"
      ]
     },
     "metadata": {},
     "execution_count": 42
    }
   ],
   "source": [
    "color.append('white')\n",
    "color"
   ]
  },
  {
   "cell_type": "code",
   "execution_count": 48,
   "metadata": {},
   "outputs": [
    {
     "output_type": "execute_result",
     "data": {
      "text/plain": [
       "['H', 'e', 'l', 'l', 'o', ' ', 'W', 'o', 'r', 'l', 'd']"
      ]
     },
     "metadata": {},
     "execution_count": 48
    }
   ],
   "source": [
    "results = list() #empty list 생성 \n",
    "for s in(\"Hello World\"):\n",
    "    results.append(s)\n",
    "results"
   ]
  },
  {
   "cell_type": "code",
   "execution_count": 49,
   "metadata": {},
   "outputs": [
    {
     "output_type": "execute_result",
     "data": {
      "text/plain": [
       "5050"
      ]
     },
     "metadata": {},
     "execution_count": 49
    }
   ],
   "source": [
    "sum = 0\n",
    "for i in range(101):\n",
    "    sum += i\n",
    "sum"
   ]
  },
  {
   "cell_type": "code",
   "execution_count": 51,
   "metadata": {},
   "outputs": [
    {
     "output_type": "execute_result",
     "data": {
      "text/plain": [
       "['H', 'e', 'l', 'l', 'o', ' ', 'W', 'o', 'r', 'l', 'd']"
      ]
     },
     "metadata": {},
     "execution_count": 51
    }
   ],
   "source": [
    "x = [s for s in \"Hello World\" ]\n",
    "x"
   ]
  },
  {
   "source": [
    "### b. extend()"
   ],
   "cell_type": "markdown",
   "metadata": {}
  },
  {
   "cell_type": "code",
   "execution_count": 53,
   "metadata": {},
   "outputs": [
    {
     "output_type": "execute_result",
     "data": {
      "text/plain": [
       "['red', 'green', 'blue', 'white', ['black', 'white']]"
      ]
     },
     "metadata": {},
     "execution_count": 53
    }
   ],
   "source": [
    "color.append(['black','white'])\n",
    "color"
   ]
  },
  {
   "cell_type": "code",
   "execution_count": 54,
   "metadata": {},
   "outputs": [
    {
     "output_type": "execute_result",
     "data": {
      "text/plain": [
       "['red', 'green', 'blue', 'black', 'white']"
      ]
     },
     "metadata": {},
     "execution_count": 54
    }
   ],
   "source": [
    "color = ['red','green','blue']\n",
    "color.extend(['black','white']) #extend는 list를 펼쳐서 추가 \n",
    "color"
   ]
  },
  {
   "source": [
    "### c.insert"
   ],
   "cell_type": "markdown",
   "metadata": {}
  },
  {
   "cell_type": "code",
   "execution_count": 56,
   "metadata": {},
   "outputs": [
    {
     "output_type": "execute_result",
     "data": {
      "text/plain": [
       "['orange', 'orange', 'red', 'green', 'blue', 'black', 'white']"
      ]
     },
     "metadata": {},
     "execution_count": 56
    }
   ],
   "source": [
    "color.insert(0, 'orange') #제일 앞에 넣기 \n",
    "color"
   ]
  },
  {
   "source": [
    "### d.remove()"
   ],
   "cell_type": "markdown",
   "metadata": {}
  },
  {
   "cell_type": "code",
   "execution_count": 57,
   "metadata": {},
   "outputs": [
    {
     "output_type": "execute_result",
     "data": {
      "text/plain": [
       "['orange', 'red', 'green', 'blue', 'black', 'white']"
      ]
     },
     "metadata": {},
     "execution_count": 57
    }
   ],
   "source": [
    "color.remove(\"orange\")\n",
    "color"
   ]
  },
  {
   "cell_type": "code",
   "execution_count": 59,
   "metadata": {},
   "outputs": [
    {
     "output_type": "execute_result",
     "data": {
      "text/plain": [
       "['orange', 'red', 'green', 'blue']"
      ]
     },
     "metadata": {},
     "execution_count": 59
    }
   ],
   "source": [
    "color.remove(color[-1])\n",
    "color"
   ]
  },
  {
   "cell_type": "code",
   "execution_count": 60,
   "metadata": {},
   "outputs": [
    {
     "output_type": "execute_result",
     "data": {
      "text/plain": [
       "['orange', 'red', 'green']"
      ]
     },
     "metadata": {},
     "execution_count": 60
    }
   ],
   "source": [
    "del color[-1]\n",
    "color"
   ]
  },
  {
   "source": [
    "### 리스트 element의 값 변경"
   ],
   "cell_type": "markdown",
   "metadata": {}
  },
  {
   "cell_type": "code",
   "execution_count": 61,
   "metadata": {},
   "outputs": [
    {
     "output_type": "execute_result",
     "data": {
      "text/plain": [
       "['orange', 'red', 'purple']"
      ]
     },
     "metadata": {},
     "execution_count": 61
    }
   ],
   "source": [
    "color[2] = 'purple'\n",
    "color"
   ]
  },
  {
   "source": [
    "### e.sort()"
   ],
   "cell_type": "markdown",
   "metadata": {}
  },
  {
   "cell_type": "code",
   "execution_count": 62,
   "metadata": {},
   "outputs": [
    {
     "output_type": "execute_result",
     "data": {
      "text/plain": [
       "['orange', 'purple', 'red']"
      ]
     },
     "metadata": {},
     "execution_count": 62
    }
   ],
   "source": [
    "# 올림차순이 기본\n",
    "color.sort()\n",
    "color"
   ]
  },
  {
   "cell_type": "code",
   "execution_count": 65,
   "metadata": {},
   "outputs": [
    {
     "output_type": "execute_result",
     "data": {
      "text/plain": [
       "['red', 'purple', 'orange']"
      ]
     },
     "metadata": {},
     "execution_count": 65
    }
   ],
   "source": [
    "#내림차순 (descending order))\n",
    "color.sort(reverse=True)\n",
    "color"
   ]
  },
  {
   "source": [
    "### 패킹, 언패킹"
   ],
   "cell_type": "markdown",
   "metadata": {}
  },
  {
   "cell_type": "code",
   "execution_count": 67,
   "metadata": {},
   "outputs": [
    {
     "output_type": "execute_result",
     "data": {
      "text/plain": [
       "(1, 2, 3)"
      ]
     },
     "metadata": {},
     "execution_count": 67
    }
   ],
   "source": [
    "t = [1,2,3]\n",
    "a,b,c = t #리스트 언패킹\n",
    "a,b,c #튜플 패킹킹"
   ]
  },
  {
   "source": [
    "### -이차원 리스트"
   ],
   "cell_type": "markdown",
   "metadata": {}
  },
  {
   "cell_type": "code",
   "execution_count": 69,
   "metadata": {},
   "outputs": [
    {
     "output_type": "execute_result",
     "data": {
      "text/plain": [
       "[[49, 79, 20, 100, 80], [43, 59, 85, 30, 90], [49, 79, 48, 60, 100]]"
      ]
     },
     "metadata": {},
     "execution_count": 69
    }
   ],
   "source": [
    "kor = [49,79,20,100,80]\n",
    "mat = [43,59,85,30,90]\n",
    "eng = [49,79,48,60,100]\n",
    "score = [kor,mat,eng]\n",
    "score"
   ]
  },
  {
   "cell_type": "code",
   "execution_count": 71,
   "metadata": {},
   "outputs": [
    {
     "output_type": "execute_result",
     "data": {
      "text/plain": [
       "[49, 79, 20, 100, 80]"
      ]
     },
     "metadata": {},
     "execution_count": 71
    }
   ],
   "source": [
    "score[0]"
   ]
  },
  {
   "cell_type": "code",
   "execution_count": 73,
   "metadata": {},
   "outputs": [
    {
     "output_type": "execute_result",
     "data": {
      "text/plain": [
       "30"
      ]
     },
     "metadata": {},
     "execution_count": 73
    }
   ],
   "source": [
    "# [행인덱스] [열 인덱스]\n",
    "score[1][3]"
   ]
  },
  {
   "cell_type": "code",
   "execution_count": 74,
   "metadata": {},
   "outputs": [
    {
     "output_type": "execute_result",
     "data": {
      "text/plain": [
       "[[43, 59, 85, 30, 90], [49, 79, 48, 60, 100]]"
      ]
     },
     "metadata": {},
     "execution_count": 74
    }
   ],
   "source": [
    "score[1:]"
   ]
  }
 ]
}