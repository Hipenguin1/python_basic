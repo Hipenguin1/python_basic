{
 "metadata": {
  "language_info": {
   "codemirror_mode": {
    "name": "ipython",
    "version": 3
   },
   "file_extension": ".py",
   "mimetype": "text/x-python",
   "name": "python",
   "nbconvert_exporter": "python",
   "pygments_lexer": "ipython3",
   "version": "3.8.5"
  },
  "orig_nbformat": 2,
  "kernelspec": {
   "name": "python385jvsc74a57bd08c1eae21719a0790335dcb83aad72b63b602cfe5cdb2bda0f60bc11d4f154e4b",
   "display_name": "Python 3.8.5 64-bit ('base': conda)"
  }
 },
 "nbformat": 4,
 "nbformat_minor": 2,
 "cells": [
  {
   "source": [
    "### 13 심사문제\n",
    "표준 입력으로 가격(정수)과 쿠폰 이름이 각 줄에 입력됩니다. Cash3000 쿠폰은 3,000원, Cash5000 쿠폰은 5,000원을 할인합니다. 쿠폰에 따라 할인된 가격을 출력하는 프로그램을 만드세요(input에서 안내 문자열은 출력하지 않아야 합니다)."
   ],
   "cell_type": "markdown",
   "metadata": {}
  },
  {
   "cell_type": "code",
   "execution_count": 2,
   "metadata": {},
   "outputs": [
    {
     "output_type": "stream",
     "name": "stdout",
     "text": [
      "62000 원\n"
     ]
    }
   ],
   "source": [
    "price,coupon = input().split()\n",
    "if coupon == 'Cash3000':\n",
    "    print(f'{int(price)-3000} 원')\n",
    "if coupon == 'Cash5000':\n",
    "    print(f'{int(price)-5000}원')"
   ]
  },
  {
   "source": [
    "### 14 심사문제\n",
    "표준 입력으로 국어, 영어, 수학, 과학 점수가 입력됩니다. 여기서 네 과목의 평균 점수가 80점 이상일 때 합격이라고 정했습니다. 평균 점수에 따라 '합격', '불합격'을 출력하는 프로그램을 만드세요(input에서 안내 문자열은 출력하지 않아야 합니다). 단, 점수는 0점부터 100점까지만 입력받을 수 있으며 범위를 벗어났다면 '잘못된 점수'를 출력하고 합격, 불합격 여부는 출력하지 않아야 합니다"
   ],
   "cell_type": "markdown",
   "metadata": {}
  },
  {
   "cell_type": "code",
   "execution_count": 120,
   "metadata": {},
   "outputs": [
    {
     "output_type": "stream",
     "name": "stdout",
     "text": [
      "합격\n"
     ]
    }
   ],
   "source": [
    "score = list(map(int,input().split()))\n",
    "avg_score =sum(score) / 4\n",
    "\n",
    "if score == range(0,101):\n",
    "    print('잘못된 점수')\n",
    "\n",
    "elif avg_score >= 80 :\n",
    "    print('합격')\n",
    "\n",
    "else: \n",
    "    print('불합격')"
   ]
  },
  {
   "cell_type": "code",
   "execution_count": null,
   "metadata": {},
   "outputs": [],
   "source": [
    "score = list(map(int,input().split()))\n",
    "score=[kor,eng, math,sci]\n",
    "\n",
    "if False not in [0<= s<= 100 for s in scores]\n",
    "    if sum(score)/len(scores)>= 80:\n",
    "        print('합격')\n",
    "    else :\n",
    "        print('불합격')\n",
    "\n",
    "else: \n",
    "    print('잘못된 점수')"
   ]
  },
  {
   "cell_type": "code",
   "execution_count": null,
   "metadata": {},
   "outputs": [],
   "source": [
    "score = list(map(int,input().split()))\n",
    "score=[kor,eng, math,sci]\n",
    "\n",
    "if all([0<= s<= 100 for s in score]):\n",
    "    if sum(score)/len(scores)>= 80:\n",
    "        print('합격')\n",
    "    else :\n",
    "        print('불합격')\n",
    "\n",
    "else: \n",
    "    print('잘못된 점수')"
   ]
  },
  {
   "source": [
    "### 15 심사문제\n",
    "표준 입력으로 나이(만 나이)가 입력됩니다(입력 값은 7 이상 입력됨). 교통카드 시스템에서 시내버스 요금은 다음과 같으며 각 나이에 맞게 요금을 차감한 뒤 잔액이 출력되게 만드세요(if, elif 사용). 현재 교통카드에는 9,000원이 들어있습니다.\n",
    "\n",
    "어린이(초등학생, 만 7세 이상 12세 이하): 650원\n",
    "청소년(중∙고등학생, 만 13세 이상 18세 이하): 1,050원\n",
    "어른(일반, 만 19세 이상): 1,250원"
   ],
   "cell_type": "markdown",
   "metadata": {}
  },
  {
   "cell_type": "code",
   "execution_count": 4,
   "metadata": {},
   "outputs": [
    {
     "output_type": "stream",
     "name": "stdout",
     "text": [
      "8350원\n"
     ]
    }
   ],
   "source": [
    "age =  int(input())\n",
    "money = 9000\n",
    "\n",
    "if 7 <= age <= 12 :\n",
    "    print(f'{money-650}원') \n",
    "elif 13 <= age <= 18:\n",
    "    print(f'{money-1050}원')\n",
    "elif age > 19:\n",
    "    print(f'{money}-1250원')"
   ]
  },
  {
   "source": [
    "### 16 심사문제\n",
    "표준 입력으로 정수가 입력됩니다. 입력된 정수의 구구단을 출력하는 프로그램을 만드세요(input에서 안내 문자열은 출력하지 않아야 합니다). 출력 형식은 숫자 * 숫자 = 숫자처럼 만들고 숫자와 *, = 사이는 공백을 한 칸 띄웁니다."
   ],
   "cell_type": "markdown",
   "metadata": {}
  },
  {
   "cell_type": "code",
   "execution_count": 8,
   "metadata": {},
   "outputs": [
    {
     "output_type": "stream",
     "name": "stdout",
     "text": [
      "7 * 1= 7\n7 * 2= 14\n7 * 3= 21\n7 * 4= 28\n7 * 5= 35\n7 * 6= 42\n7 * 7= 49\n7 * 8= 56\n7 * 9= 63\n"
     ]
    }
   ],
   "source": [
    "dan = int(input())\n",
    "for i in range(1,10):\n",
    "    print(f'{dan} * {i}= {dan*i}')"
   ]
  },
  {
   "source": [
    "### 17 심사문제\n",
    "표준 입력으로 금액(정수)이 입력됩니다. 1회당 요금은 1,350원이고, 교통카드를 사용했을 때마다의 잔액을 각 줄에 출력하는 프로그램을 만드세요(input에서 안내 문자열은 출력하지 않아야 합니다). 단, 최초 금액은 출력하지 않아야 합니다. 그리고 잔액은 음수가 될 수 없으며 잔액이 부족하면 출력을 끝냅니다.\n"
   ],
   "cell_type": "markdown",
   "metadata": {}
  },
  {
   "cell_type": "code",
   "execution_count": 118,
   "metadata": {
    "tags": []
   },
   "outputs": [
    {
     "output_type": "stream",
     "name": "stdout",
     "text": [
      "8650\n7300\n5950\n4600\n3250\n1900\n550\n"
     ]
    }
   ],
   "source": [
    "money = int(input())\n",
    "while True:\n",
    "    money -= 1350\n",
    "    if money < 0 or money == 0 : break\n",
    "    print(money)\n"
   ]
  },
  {
   "cell_type": "code",
   "execution_count": 2,
   "metadata": {},
   "outputs": [
    {
     "output_type": "stream",
     "name": "stdout",
     "text": [
      "12150\n10800\n9450\n8100\n6750\n5400\n4050\n2700\n1350\n0\n"
     ]
    }
   ],
   "source": [
    "money = int(input())\n",
    "while money >=1350:\n",
    "    money -= 1350\n",
    "    print(money)"
   ]
  },
  {
   "cell_type": "code",
   "execution_count": null,
   "metadata": {},
   "outputs": [],
   "source": [
    "# 클래스로 만들기 "
   ]
  },
  {
   "cell_type": "code",
   "execution_count": null,
   "metadata": {},
   "outputs": [],
   "source": [
    "tmon = Tmoney()\n"
   ]
  },
  {
   "source": [
    "### 18 심사문제 \n",
    "표준 입력으로 정수 두 개가 입력됩니다(첫 번째 입력 값의 범위는 1~200, 두 번째 입력 값의 범위는 10~200이며 첫 번째 입력 값은 두 번째 입력 값보다 항상 작습니다). 다음 소스 코드를 완성하여 첫 번째 정수와 두 번째 정수 사이의 숫자 중 3으로 끝나지 않는 숫자가 출력되게 만드세요. 정답에 코드를 작성할 때는 while True:에 맞춰서 들여쓰기를 해주세요."
   ],
   "cell_type": "markdown",
   "metadata": {}
  },
  {
   "cell_type": "code",
   "execution_count": 75,
   "metadata": {
    "tags": []
   },
   "outputs": [
    {
     "output_type": "stream",
     "name": "stdout",
     "text": [
      "2 4 5 7 8 10 11 13 14 16 17 19 20 "
     ]
    }
   ],
   "source": [
    "start, stop = map(int, input().split()) \n",
    "i = start\n",
    "\n",
    "while True: #무한루프\n",
    "    i += 1\n",
    "    if i % 3 == 0:\n",
    "        continue\n",
    "    print(i, end=' ')\n",
    "    if i == stop: break"
   ]
  }
 ]
}