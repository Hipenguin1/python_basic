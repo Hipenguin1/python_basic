{
 "metadata": {
  "language_info": {
   "codemirror_mode": {
    "name": "ipython",
    "version": 3
   },
   "file_extension": ".py",
   "mimetype": "text/x-python",
   "name": "python",
   "nbconvert_exporter": "python",
   "pygments_lexer": "ipython3",
   "version": "3.8.5"
  },
  "orig_nbformat": 2,
  "kernelspec": {
   "name": "python385jvsc74a57bd08c1eae21719a0790335dcb83aad72b63b602cfe5cdb2bda0f60bc11d4f154e4b",
   "display_name": "Python 3.8.5 64-bit ('base': conda)"
  }
 },
 "nbformat": 4,
 "nbformat_minor": 2,
 "cells": [
  {
   "source": [
    "# 씨저 암호 클래스로 작성하기 "
   ],
   "cell_type": "markdown",
   "metadata": {}
  },
  {
   "cell_type": "code",
   "execution_count": 4,
   "metadata": {},
   "outputs": [],
   "source": [
    "class Caesar:\n",
    "    def encode(self, plain, n):\n",
    "        cipher = ''\n",
    "        for c in plain:\n",
    "            diff = ord(c) - ord('A') + n\n",
    "            if diff >= 26:\n",
    "                cipher += chr(ord('A') + diff % 26)\n",
    "            else:\n",
    "                cipher += chr(ord(c) + n)\n",
    "        return cipher\n",
    "\n",
    "    def decode(self, cipher, n):\n",
    "        plain = ''\n",
    "        for c in cipher:\n",
    "            diff = ord(c) - ord('A') - n\n",
    "            if diff < 0:\n",
    "                plain += chr(ord('Z') + diff + 1)\n",
    "            else:\n",
    "                plain += chr(ord(c) - n)\n",
    "        return plain\n"
   ]
  },
  {
   "cell_type": "code",
   "execution_count": 5,
   "metadata": {},
   "outputs": [
    {
     "output_type": "execute_result",
     "data": {
      "text/plain": [
       "'DEFABC'"
      ]
     },
     "metadata": {},
     "execution_count": 5
    }
   ],
   "source": [
    "caesar = Caesar()\n",
    "caesar.encode('ABCXYZ',3)"
   ]
  },
  {
   "cell_type": "code",
   "execution_count": 6,
   "metadata": {},
   "outputs": [
    {
     "output_type": "execute_result",
     "data": {
      "text/plain": [
       "'ABCXYZ'"
      ]
     },
     "metadata": {},
     "execution_count": 6
    }
   ],
   "source": [
    "caesar.decode('DEFABC',3)"
   ]
  },
  {
   "source": [
    "### 13 심사문제\n",
    "표준 입력으로 가격(정수)과 쿠폰 이름이 각 줄에 입력됩니다. Cash3000 쿠폰은 3,000원, Cash5000 쿠폰은 5,000원을 할인합니다. 쿠폰에 따라 할인된 가격을 출력하는 프로그램을 만드세요(input에서 안내 문자열은 출력하지 않아야 합니다)."
   ],
   "cell_type": "markdown",
   "metadata": {}
  },
  {
   "cell_type": "code",
   "execution_count": 19,
   "metadata": {},
   "outputs": [
    {
     "output_type": "stream",
     "name": "stdout",
     "text": [
      "7000 원\n"
     ]
    }
   ],
   "source": [
    "price,coupon = input().split()\n",
    "if coupon == 'Cash3000':\n",
    "    print(f'{int(price)-3000} 원')\n",
    "if coupon == 'Cash5000':\n",
    "    print(f'{int(price)-5000}원')"
   ]
  },
  {
   "source": [
    "### 14 심사문제\n",
    "표준 입력으로 국어, 영어, 수학, 과학 점수가 입력됩니다. 여기서 네 과목의 평균 점수가 80점 이상일 때 합격이라고 정했습니다. 평균 점수에 따라 '합격', '불합격'을 출력하는 프로그램을 만드세요(input에서 안내 문자열은 출력하지 않아야 합니다). 단, 점수는 0점부터 100점까지만 입력받을 수 있으며 범위를 벗어났다면 '잘못된 점수'를 출력하고 합격, 불합격 여부는 출력하지 않아야 합니다"
   ],
   "cell_type": "markdown",
   "metadata": {}
  },
  {
   "cell_type": "code",
   "execution_count": 60,
   "metadata": {},
   "outputs": [
    {
     "output_type": "stream",
     "name": "stdout",
     "text": [
      "합격\n"
     ]
    }
   ],
   "source": [
    "score = list(map(int,input().split()))\n",
    "avg_score =sum(score) / 4\n",
    "\n",
    "if score == range(0,101):\n",
    "    print('잘못된 점수')\n",
    "\n",
    "elif avg_score >= 80 :\n",
    "    print('합격')\n",
    "\n",
    "else: \n",
    "    print('불합격')\n",
    "   "
   ]
  },
  {
   "cell_type": "code",
   "execution_count": 61,
   "metadata": {},
   "outputs": [
    {
     "output_type": "execute_result",
     "data": {
      "text/plain": [
       "[99, 85, 101, 90]"
      ]
     },
     "metadata": {},
     "execution_count": 61
    }
   ],
   "source": [
    "score"
   ]
  },
  {
   "source": [
    "### 15 심사문제\n",
    "표준 입력으로 나이(만 나이)가 입력됩니다(입력 값은 7 이상 입력됨). 교통카드 시스템에서 시내버스 요금은 다음과 같으며 각 나이에 맞게 요금을 차감한 뒤 잔액이 출력되게 만드세요(if, elif 사용). 현재 교통카드에는 9,000원이 들어있습니다.\n",
    "\n",
    "어린이(초등학생, 만 7세 이상 12세 이하): 650원\n",
    "청소년(중∙고등학생, 만 13세 이상 18세 이하): 1,050원\n",
    "어른(일반, 만 19세 이상): 1,250원"
   ],
   "cell_type": "markdown",
   "metadata": {}
  },
  {
   "cell_type": "code",
   "execution_count": 70,
   "metadata": {},
   "outputs": [
    {
     "output_type": "stream",
     "name": "stdout",
     "text": [
      "8350원\n"
     ]
    }
   ],
   "source": [
    "age =  int(input())\n",
    "money = 9000\n",
    "\n",
    "if 7 <= age <= 12 :\n",
    "    print(f'{money-650}원') \n",
    "elif 13 <= age <= 18:\n",
    "    print(f'{money-1050}원')\n",
    "elif age > 19:\n",
    "    print(f'{money}-1250원')"
   ]
  }
 ]
}