{
 "metadata": {
  "language_info": {
   "codemirror_mode": {
    "name": "ipython",
    "version": 3
   },
   "file_extension": ".py",
   "mimetype": "text/x-python",
   "name": "python",
   "nbconvert_exporter": "python",
   "pygments_lexer": "ipython3",
   "version": "3.8.5"
  },
  "orig_nbformat": 2,
  "kernelspec": {
   "name": "python385jvsc74a57bd08c1eae21719a0790335dcb83aad72b63b602cfe5cdb2bda0f60bc11d4f154e4b",
   "display_name": "Python 3.8.5 64-bit ('base': conda)"
  }
 },
 "nbformat": 4,
 "nbformat_minor": 2,
 "cells": [
  {
   "cell_type": "code",
   "execution_count": null,
   "metadata": {},
   "outputs": [],
   "source": [
    "#같은 모양의 함수인데 모양이 다를 때 같은 이름으로 여러가지 형태가 나오는것 overloading overriding-다형성\n"
   ]
  },
  {
   "source": [
    "### 함수의 인수\n",
    "- 위치 인수 (positional argument)\n",
    "- 키워드 인수 (keyword argument)\n",
    "- 디폴트 인수 (default argument)\n",
    "- 가변 인수 (variable-length argument)\n",
    "- 키워드 가변 인수 (keyword variable-lenght argument)"
   ],
   "cell_type": "markdown",
   "metadata": {}
  },
  {
   "source": [
    "- 키워드 인수 (keyword argument)"
   ],
   "cell_type": "markdown",
   "metadata": {}
  },
  {
   "cell_type": "code",
   "execution_count": 10,
   "metadata": {},
   "outputs": [],
   "source": [
    "def print_something(my_name, your_name):\n",
    "    print(f'Hello{your_name}, my name is {my_name}')"
   ]
  },
  {
   "cell_type": "code",
   "execution_count": 11,
   "metadata": {},
   "outputs": [
    {
     "output_type": "stream",
     "name": "stdout",
     "text": [
      "HelloEveryone, my name is Sungchul\nHelloEveryone, my name is Sungchul\n"
     ]
    }
   ],
   "source": [
    "print_something('Sungchul','Everyone') #위치 형식\n",
    "print_something(your_name ='Everyone',my_name ='Sungchul') #키워드 형식 "
   ]
  },
  {
   "source": [
    "- 디폴트 인수 (default argument)"
   ],
   "cell_type": "markdown",
   "metadata": {}
  },
  {
   "cell_type": "code",
   "execution_count": 14,
   "metadata": {},
   "outputs": [],
   "source": [
    "def print_something2(my_name, your_name='Everyone'):\n",
    "    print(f'Hello{your_name}, my name is {my_name}')"
   ]
  },
  {
   "cell_type": "code",
   "execution_count": 15,
   "metadata": {},
   "outputs": [
    {
     "output_type": "stream",
     "name": "stdout",
     "text": [
      "HelloEveryone, my name is Kildong\nHelloEveryone, my name is Kildong\n"
     ]
    }
   ],
   "source": [
    "print_something2('Kildong','Everyone') #위에서 앞에 인수가 중복되면 이게 디폴트가 되서 아래도 결과가 같게 나옴\n",
    "print_something2('Kildong')"
   ]
  },
  {
   "source": [
    "- 가변 인수 (variable-length argument)"
   ],
   "cell_type": "markdown",
   "metadata": {}
  },
  {
   "cell_type": "code",
   "execution_count": 19,
   "metadata": {},
   "outputs": [],
   "source": [
    "def summation(*args): #args가 어떤 형식으로 들어오든(  print(a), print(a,b,c), print(a,b,c,d)  )풀어서 쓰겠음  *args 포인터역할\n",
    "    return sum(args)"
   ]
  },
  {
   "cell_type": "code",
   "execution_count": 20,
   "metadata": {},
   "outputs": [
    {
     "output_type": "stream",
     "name": "stdout",
     "text": [
      "3\n10\n15\n"
     ]
    }
   ],
   "source": [
    "print(summation(1,2))\n",
    "print(summation(1,2,3,4))\n",
    "print(summation(1,2,3,4,5))"
   ]
  },
  {
   "cell_type": "code",
   "execution_count": 21,
   "metadata": {},
   "outputs": [],
   "source": [
    "def summation2(a,b, *args):\n",
    "    return a + b + sum(args)"
   ]
  },
  {
   "cell_type": "code",
   "execution_count": null,
   "metadata": {},
   "outputs": [],
   "source": []
  },
  {
   "cell_type": "code",
   "execution_count": null,
   "metadata": {},
   "outputs": [],
   "source": [
    " #위치 인수는 가변인수 보다 항상 앞에 있어야한다.\n",
    "def summation2(*args):\n",
    "    return sum(args)"
   ]
  },
  {
   "cell_type": "code",
   "execution_count": null,
   "metadata": {},
   "outputs": [],
   "source": [
    "print(summation3(1,2)) #위치 인수는 가변인수 보다 항상 앞에 있어야한다."
   ]
  },
  {
   "source": [
    "- 키워드 가변 인수 (keyword variable-lenght argument)"
   ],
   "cell_type": "markdown",
   "metadata": {}
  },
  {
   "cell_type": "code",
   "execution_count": 29,
   "metadata": {},
   "outputs": [],
   "source": [
    "def kwargs_test(**kwargs):\n",
    "    print(kwargs)"
   ]
  },
  {
   "cell_type": "code",
   "execution_count": 30,
   "metadata": {},
   "outputs": [
    {
     "output_type": "stream",
     "name": "stdout",
     "text": [
      "{'first': 3, 'second': 4, 'third': 5}\n"
     ]
    }
   ],
   "source": [
    "kwargs_test(first=3, second=4, third = 5)\n",
    "\n",
    "# dictionnary key-value {key:value,}"
   ]
  },
  {
   "cell_type": "code",
   "execution_count": 33,
   "metadata": {},
   "outputs": [
    {
     "output_type": "stream",
     "name": "stdout",
     "text": [
      "3\n"
     ]
    }
   ],
   "source": [
    "my_dict = {'first':3,'second':4,'third':5}\n",
    "print(my_dict['first']) #my_dict.first는 지원하지 않음"
   ]
  },
  {
   "cell_type": "code",
   "execution_count": 35,
   "metadata": {},
   "outputs": [],
   "source": [
    "def kwargs_test2(**kwargs):\n",
    "    print(kwargs)\n",
    "    print(f\"First value is {kwargs['first']}\")"
   ]
  },
  {
   "cell_type": "code",
   "execution_count": 36,
   "metadata": {},
   "outputs": [
    {
     "output_type": "stream",
     "name": "stdout",
     "text": [
      "{'first': 3, 'second': 4, 'third': 5}\nFirst value is 3\n"
     ]
    }
   ],
   "source": [
    "kwargs_test2(first=3, second=4, third = 5)"
   ]
  },
  {
   "cell_type": "code",
   "execution_count": 37,
   "metadata": {},
   "outputs": [],
   "source": [
    "def kwargs_test3(**kwargs):\n",
    "    print(kwargs)\n",
    "    print(f\"First value is {kwargs['first']}\")\n",
    "    print(f\"Second value is {kwargs['second']}\")\n",
    "    print(f\"Third value is {'third'}\".fomat(**kwargs))"
   ]
  },
  {
   "cell_type": "code",
   "execution_count": 42,
   "metadata": {},
   "outputs": [],
   "source": [
    "def kwargs_test3(first, second=4, **kwargs): #위치 디폴트 키워드\n",
    "    print(f\"First value is {'first'}\")\n",
    "    print(f\"Second value is {'second'}\")\n",
    "    print(kwargs)"
   ]
  },
  {
   "cell_type": "code",
   "execution_count": 43,
   "metadata": {},
   "outputs": [
    {
     "output_type": "stream",
     "name": "stdout",
     "text": [
      "First value is first\nSecond value is second\n{'third': 5}\n"
     ]
    }
   ],
   "source": [
    "kwargs_test3(first=3, second=4, third = 5)"
   ]
  },
  {
   "cell_type": "code",
   "execution_count": 44,
   "metadata": {},
   "outputs": [
    {
     "output_type": "stream",
     "name": "stdout",
     "text": [
      "First value is first\nSecond value is second\n{'third': 5, 'fourth': 8}\n"
     ]
    }
   ],
   "source": [
    "kwargs_test3(3, third=5, fourth = 8)"
   ]
  },
  {
   "source": [
    "- 세 자리 수를 곱해 만들 수 있는 가장 큰 대칭수\n",
    "#### a,b는 세자리수, a*b 곱해서 최대값이 나오는 두 수를 구하는데, palidrome이어야함 "
   ],
   "cell_type": "markdown",
   "metadata": {}
  },
  {
   "cell_type": "code",
   "execution_count": 106,
   "metadata": {},
   "outputs": [],
   "source": [
    "# palidrome 함수정의 \n",
    "def is_palidrome(s):\n",
    "    return s == s[::-1]"
   ]
  },
  {
   "cell_type": "code",
   "execution_count": 108,
   "metadata": {},
   "outputs": [
    {
     "output_type": "stream",
     "name": "stdout",
     "text": [
      "906609 913 993\n"
     ]
    }
   ],
   "source": [
    "max_num, max_i, max_k = 0, 0, 0\n",
    "for i in range(100,1000):\n",
    "    for k in range(100,1000):\n",
    "        if is_palindrome(str(i*k)): #내가 곱한srt숫자가 pal인지 아닌지 판단\n",
    "            if max_num < i * k : #max값이 i*k보다 작으면 바꾸겠다.\n",
    "                max_num = i *k # 그래서 바꾼걸로 저장을 하겠다. \n",
    "                max_i, max_k = i,k\n",
    "\n",
    "print(max_num, max_i, max_k)"
   ]
  },
  {
   "cell_type": "code",
   "execution_count": null,
   "metadata": {},
   "outputs": [],
   "source": []
  },
  {
   "cell_type": "code",
   "execution_count": 63,
   "metadata": {},
   "outputs": [],
   "source": [
    "def is_palindrome(number):\n",
    "  if a < 999 and b < 999:\n",
    "     return a * b"
   ]
  },
  {
   "cell_type": "code",
   "execution_count": 60,
   "metadata": {},
   "outputs": [],
   "source": [
    "def palindrome(number):\n",
    "    a=[]\n",
    "    for number in range(1000):\n",
    "        if number< 999\n",
    "        return a, b \n"
   ]
  },
  {
   "source": [
    "- 파이썬 코딩도장 unit 29,30 퀴즈 심사문제 "
   ],
   "cell_type": "markdown",
   "metadata": {}
  },
  {
   "source": [
    "- 표준 입력으로 숫자 두 개가 입력됩니다. 다음 소스 코드를 완성하여 두 숫자의 덧셈, 뺄셈, 곱셈, 나눗셈의 결과가 출력되게 만드세요. 이때 나눗셈의 결과는 실수라야 합니다."
   ],
   "cell_type": "markdown",
   "metadata": {}
  },
  {
   "cell_type": "code",
   "execution_count": 105,
   "metadata": {},
   "outputs": [
    {
     "output_type": "stream",
     "name": "stdout",
     "text": [
      "(48, 32, 320, 5.0)\n더하기: 48, 빼기: 32, 곱하기: 320, 나누기: 5.0\n"
     ]
    }
   ],
   "source": [
    "def calc(a,b):\n",
    "    return a+b, a-b, a*b, a/b\n",
    "x,y = map(int,input().split())\n",
    "print(calc(x,y))\n",
    "\n",
    "a,s,m,d = calc(x,y)\n",
    "print('더하기: {0}, 빼기: {1}, 곱하기: {2}, 나누기: {3}'.format(a, s, m, d))"
   ]
  },
  {
   "source": [
    "- 표준 입력으로 국어, 영어, 수학, 과학 점수가 입력됩니다. 다음 소스 코드를 완성하여 가장 높은 점수, 가장 낮은 점수, 평균 점수가 출력되게 만드세요. 평균 점수는 실수로 출력되어야 합니다."
   ],
   "cell_type": "markdown",
   "metadata": {}
  },
  {
   "cell_type": "code",
   "execution_count": 109,
   "metadata": {},
   "outputs": [],
   "source": [
    "# c java\n",
    "\n",
    "def get_min_max_score(kor,eng,mat,sci):\n",
    "    min,max = 100.,0. #max 100 min 0\n",
    "    for score in [kor,eng,mat,sci]:\n",
    "        if min> score:\n",
    "             min=score\n",
    "        if max< score:\n",
    "             max=score\n",
    "    return min,max\n"
   ]
  },
  {
   "cell_type": "code",
   "execution_count": 110,
   "metadata": {},
   "outputs": [],
   "source": [
    "# python \n",
    "\n",
    "def get_min_max_score2(*args):\n",
    "    return min(args), max(args)"
   ]
  },
  {
   "source": [
    "- 딕셔너리 반복문 사용법"
   ],
   "cell_type": "markdown",
   "metadata": {}
  },
  {
   "cell_type": "code",
   "execution_count": 111,
   "metadata": {},
   "outputs": [
    {
     "output_type": "execute_result",
     "data": {
      "text/plain": [
       "dict_items([('kor', 90.0), ('eng', 80.0)])"
      ]
     },
     "metadata": {},
     "execution_count": 111
    }
   ],
   "source": [
    "# value값 나오기 1\n",
    "\n",
    "my_dict = {'kor':90.,'eng':80.}\n",
    "my_dict.items()"
   ]
  },
  {
   "cell_type": "code",
   "execution_count": 113,
   "metadata": {},
   "outputs": [
    {
     "output_type": "stream",
     "name": "stdout",
     "text": [
      "kor 90.0 90.0\neng 80.0 80.0\n"
     ]
    }
   ],
   "source": [
    "# value값 나오기 2\n",
    "\n",
    "for key, value in my_dict.items():\n",
    "    print(key, my_dict[key], value)"
   ]
  },
  {
   "source": [
    "- 딕셔너리의 키/밸류만 뽑고 싶은 경우"
   ],
   "cell_type": "markdown",
   "metadata": {}
  },
  {
   "cell_type": "code",
   "execution_count": 114,
   "metadata": {},
   "outputs": [
    {
     "output_type": "execute_result",
     "data": {
      "text/plain": [
       "dict_keys(['kor', 'eng'])"
      ]
     },
     "metadata": {},
     "execution_count": 114
    }
   ],
   "source": [
    "my_dict.keys()"
   ]
  },
  {
   "cell_type": "code",
   "execution_count": 115,
   "metadata": {},
   "outputs": [
    {
     "output_type": "execute_result",
     "data": {
      "text/plain": [
       "dict_values([90.0, 80.0])"
      ]
     },
     "metadata": {},
     "execution_count": 115
    }
   ],
   "source": [
    "my_dict.values()"
   ]
  },
  {
   "cell_type": "code",
   "execution_count": 126,
   "metadata": {},
   "outputs": [],
   "source": [
    "# c java스타일\n",
    "\n",
    "def get_average(**kwargs):\n",
    "    sum = 0\n",
    "    for key, value in kwargs.items():\n",
    "        #sum += kwargs[key]\n",
    "        sum += value\n",
    "    return sum/len(kwargs)"
   ]
  },
  {
   "cell_type": "code",
   "execution_count": 127,
   "metadata": {},
   "outputs": [],
   "source": [
    "# python 스타일\n",
    "\n",
    "def get_average2(**kwargs):\n",
    "    return(sum(kwargs.value()) / len(kwargs))"
   ]
  },
  {
   "cell_type": "code",
   "execution_count": 128,
   "metadata": {},
   "outputs": [],
   "source": [
    "kor, eng, mat, sci = map(float,input().split())"
   ]
  },
  {
   "cell_type": "code",
   "execution_count": 129,
   "metadata": {},
   "outputs": [
    {
     "output_type": "stream",
     "name": "stdout",
     "text": [
      "낮은 점수: 57.00, 높은 점수: 90.00, 평균 점수: 78.00\n"
     ]
    },
    {
     "output_type": "error",
     "ename": "TypeError",
     "evalue": "get_min_max_score() missing 2 required positional arguments: 'mat' and 'sci'",
     "traceback": [
      "\u001b[1;31m---------------------------------------------------------------------------\u001b[0m",
      "\u001b[1;31mTypeError\u001b[0m                                 Traceback (most recent call last)",
      "\u001b[1;32m<ipython-input-129-99532a636161>\u001b[0m in \u001b[0;36m<module>\u001b[1;34m\u001b[0m\n\u001b[0;32m      5\u001b[0m       .format(min_score, max_score, average_score))\n\u001b[0;32m      6\u001b[0m \u001b[1;33m\u001b[0m\u001b[0m\n\u001b[1;32m----> 7\u001b[1;33m \u001b[0mmin_score\u001b[0m\u001b[1;33m,\u001b[0m \u001b[0mmax_score\u001b[0m \u001b[1;33m=\u001b[0m \u001b[0mget_min_max_score\u001b[0m\u001b[1;33m(\u001b[0m\u001b[0menglish\u001b[0m\u001b[1;33m,\u001b[0m \u001b[0mscience\u001b[0m\u001b[1;33m)\u001b[0m\u001b[1;33m\u001b[0m\u001b[1;33m\u001b[0m\u001b[0m\n\u001b[0m\u001b[0;32m      8\u001b[0m \u001b[0maverage_score\u001b[0m \u001b[1;33m=\u001b[0m \u001b[0mget_average\u001b[0m\u001b[1;33m(\u001b[0m\u001b[0menglish\u001b[0m\u001b[1;33m=\u001b[0m\u001b[0menglish\u001b[0m\u001b[1;33m,\u001b[0m \u001b[0mscience\u001b[0m\u001b[1;33m=\u001b[0m\u001b[0mscience\u001b[0m\u001b[1;33m)\u001b[0m\u001b[1;33m\u001b[0m\u001b[1;33m\u001b[0m\u001b[0m\n\u001b[0;32m      9\u001b[0m print('낮은 점수: {0:.2f}, 높은 점수: {1:.2f}, 평균 점수: {2:.2f}'\n",
      "\u001b[1;31mTypeError\u001b[0m: get_min_max_score() missing 2 required positional arguments: 'mat' and 'sci'"
     ]
    }
   ],
   "source": [
    "min_score, max_score = get_min_max_score(korean, english, mathematics, science)\n",
    "average_score = get_average(korean=korean, english=english,\n",
    "                            mathematics=mathematics, science=science)\n",
    "print('낮은 점수: {0:.2f}, 높은 점수: {1:.2f}, 평균 점수: {2:.2f}'\n",
    "      .format(min_score, max_score, average_score))\n",
    " \n",
    "min_score, max_score = get_min_max_score(english, science)\n",
    "average_score = get_average(english=english, science=science)\n",
    "print('낮은 점수: {0:.2f}, 높은 점수: {1:.2f}, 평균 점수: {2:.2f}'\n",
    "      .format(min_score, max_score, average_score))"
   ]
  }
 ]
}