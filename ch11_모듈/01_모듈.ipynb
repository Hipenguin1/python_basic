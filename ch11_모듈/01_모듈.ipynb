{
 "metadata": {
  "language_info": {
   "codemirror_mode": {
    "name": "ipython",
    "version": 3
   },
   "file_extension": ".py",
   "mimetype": "text/x-python",
   "name": "python",
   "nbconvert_exporter": "python",
   "pygments_lexer": "ipython3",
   "version": "3.8.5"
  },
  "orig_nbformat": 2,
  "kernelspec": {
   "name": "python385jvsc74a57bd08c1eae21719a0790335dcb83aad72b63b602cfe5cdb2bda0f60bc11d4f154e4b",
   "display_name": "Python 3.8.5 64-bit ('base': conda)"
  }
 },
 "nbformat": 4,
 "nbformat_minor": 2,
 "cells": [
  {
   "source": [
    "# 11장. 모듈과 패키지"
   ],
   "cell_type": "markdown",
   "metadata": {}
  },
  {
   "source": [
    "### - 모듈 만들기"
   ],
   "cell_type": "markdown",
   "metadata": {}
  },
  {
   "cell_type": "code",
   "execution_count": 3,
   "metadata": {},
   "outputs": [],
   "source": [
    "def convert_c2f(celcius_value):\n",
    "    return celcius_value * 9. / 5 + 32 #.쓰면 실수"
   ]
  },
  {
   "cell_type": "code",
   "execution_count": 4,
   "metadata": {},
   "outputs": [
    {
     "output_type": "stream",
     "name": "stdout",
     "text": [
      "섭씨온도: 15.1, 화씨온도:59.2\n"
     ]
    }
   ],
   "source": [
    "celcius = float(input('섭씨온도'))\n",
    "fahrenheit = convert_c2f(celcius)\n",
    "print(f'섭씨온도: {celcius:.1f}, 화씨온도:{fahrenheit:.1f}')"
   ]
  },
  {
   "cell_type": "code",
   "execution_count": 5,
   "metadata": {},
   "outputs": [
    {
     "output_type": "stream",
     "name": "stdout",
     "text": [
      "섭씨온도: 17.0, 화씨온도:62.6\n"
     ]
    }
   ],
   "source": [
    "# import 방법 1\n",
    "import module1\n",
    "\n",
    "celcius = float(input('섭씨온도'))\n",
    "fahrenheit = convert_c2f(celcius)\n",
    "print(f'섭씨온도: {celcius:.1f}, 화씨온도:{fahrenheit:.1f}')"
   ]
  },
  {
   "cell_type": "code",
   "execution_count": 6,
   "metadata": {},
   "outputs": [
    {
     "output_type": "stream",
     "name": "stdout",
     "text": [
      "섭씨온도: 19.0, 화씨온도:66.2\n"
     ]
    }
   ],
   "source": [
    "# import 방법 2\n",
    "import module1 as m1 #as - alias, 축약명칭\n",
    "\n",
    "celcius = float(input('섭씨온도'))\n",
    "fahrenheit = convert_c2f(celcius)\n",
    "print(f'섭씨온도: {celcius:.1f}, 화씨온도:{fahrenheit:.1f}')"
   ]
  },
  {
   "cell_type": "code",
   "execution_count": 7,
   "metadata": {},
   "outputs": [
    {
     "output_type": "stream",
     "name": "stdout",
     "text": [
      "섭씨온도: 19.0, 화씨온도:66.2\n"
     ]
    }
   ],
   "source": [
    "# import 방법 \n",
    "from module1 import convert_c2f_m # from으로 아예 모듈 안에 있는 함수를 가져옴 \n",
    "\n",
    "celcius = float(input('섭씨온도'))\n",
    "fahrenheit = convert_c2f(celcius)\n",
    "print(f'섭씨온도: {celcius:.1f}, 화씨온도:{fahrenheit:.1f}')"
   ]
  },
  {
   "cell_type": "code",
   "execution_count": 8,
   "metadata": {},
   "outputs": [
    {
     "output_type": "stream",
     "name": "stdout",
     "text": [
      "화씨온도: 66.2, 섭씨온도:19.0\n"
     ]
    }
   ],
   "source": [
    "from module1 import * \n",
    "\n",
    "fahrenheit = float(input('화씨온도'))\n",
    "celcius= convert_c2f_m(celcius) #import *하면 이것도 가져올 수 있음 \n",
    "print(f'화씨온도: {celcius:.1f}, 섭씨온도:{fahrenheit:.1f}')"
   ]
  },
  {
   "cell_type": "code",
   "execution_count": 9,
   "metadata": {},
   "outputs": [
    {
     "output_type": "execute_result",
     "data": {
      "text/plain": [
       "37.77777777777778"
      ]
     },
     "metadata": {},
     "execution_count": 9
    }
   ],
   "source": [
    "import module.module1 as mm1 # module이라는 폴더에있는 module1를 import\n",
    "mm1.convert_f2c_m(100.)"
   ]
  },
  {
   "source": [
    "- 내장모듈"
   ],
   "cell_type": "markdown",
   "metadata": {}
  },
  {
   "cell_type": "code",
   "execution_count": 2,
   "metadata": {},
   "outputs": [
    {
     "output_type": "execute_result",
     "data": {
      "text/plain": [
       "(0.8363375023320742, 180)"
      ]
     },
     "metadata": {},
     "execution_count": 2
    }
   ],
   "source": [
    "import random # 0-1사이의 값을 가져옴\n",
    "random.seed(2021) #seed를 주면 값을 기억할수있음 \n",
    "random.random(), random.randint(100,200) #randint는 100부터 200사이의"
   ]
  },
  {
   "cell_type": "code",
   "execution_count": null,
   "metadata": {},
   "outputs": [],
   "source": [
    "# pip 전역적으로 설치\n",
    "# conda 가상환경에 설치 "
   ]
  }
 ]
}