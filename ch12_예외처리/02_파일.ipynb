{
 "metadata": {
  "language_info": {
   "codemirror_mode": {
    "name": "ipython",
    "version": 3
   },
   "file_extension": ".py",
   "mimetype": "text/x-python",
   "name": "python",
   "nbconvert_exporter": "python",
   "pygments_lexer": "ipython3",
   "version": "3.8.5"
  },
  "orig_nbformat": 2,
  "kernelspec": {
   "name": "python385jvsc74a57bd08c1eae21719a0790335dcb83aad72b63b602cfe5cdb2bda0f60bc11d4f154e4b",
   "display_name": "Python 3.8.5 64-bit ('base': conda)"
  }
 },
 "nbformat": 4,
 "nbformat_minor": 2,
 "cells": [
  {
   "cell_type": "code",
   "execution_count": null,
   "metadata": {},
   "outputs": [],
   "source": [
    "# root directoty => 슬래시! 프로그램안에서는 / cmd에서는 \\\n",
    "\n",
    "#파일 스텝이 트리형태 \n",
    "#   file directory \n",
    "#  file \n",
    "#    -text file 텍스트 단위\n",
    "#    -binary file 이미지파일 ,특정한 어플리케이션으로 봐야하는 파일\n",
    "\n",
    "# 파일 acess방법 \n",
    "# read 읽기만/ write 덮어쓰기,수정해서 고칠거임 /append 기존파일 끝에 매다는 것 \n",
    "# \n",
    "\n",
    "# 권한\n",
    "# owner개인/관리자  group others -> read write x엑스큐트..?실행\n",
    "# 개인 / root 관리자 \n",
    "\n",
    "\n",
    "\n",
    "# open 어떤 파일을 내 프로그램에서 쓸거야. -> \n",
    "# read / write 작업하기\n",
    "# close\n",
    "# with open\n",
    "#       read/write  #들어쓰기해서 이러식으로 쓰면 알아서 파일이 닫힘\n",
    "\n",
    "# .. 상위 디렉토리 \n",
    "# 루트로부터 시작하는 절대경로 /xxx.txt 근데 비추천 왜냐면 상대적 경로로 하는게 파일을 어디서 열지 모르기 때문에 ! "
   ]
  },
  {
   "source": [
    "# 파일 다루기 "
   ],
   "cell_type": "markdown",
   "metadata": {}
  },
  {
   "source": [
    "- 텍스트 파일 읽기"
   ],
   "cell_type": "markdown",
   "metadata": {}
  },
  {
   "cell_type": "code",
   "execution_count": null,
   "metadata": {},
   "outputs": [],
   "source": [
    "# r,w,a # rw ra"
   ]
  },
  {
   "cell_type": "code",
   "execution_count": 4,
   "metadata": {},
   "outputs": [
    {
     "output_type": "stream",
     "name": "stdout",
     "text": [
      "I Have a Dream, a song to sing\n\nTo help me cope, with anything\n\nIf you see the wonder, of a fairy tale\n\nYou can take the future, even if you fail\n\nI believe in angels\n\nSomething good in everything I see\n\nI believe in angels\n\nWhen I know the time is right for me\n\nI'll cross the stream, I Have a Dream\n"
     ]
    }
   ],
   "source": [
    "f = open('dream.txt', 'r') # 어떤 모드 r 모드\n",
    "contents =f.read() # f.read는 \n",
    "print(contents)\n",
    "\n",
    "f.close()"
   ]
  },
  {
   "cell_type": "code",
   "execution_count": 8,
   "metadata": {},
   "outputs": [
    {
     "output_type": "stream",
     "name": "stdout",
     "text": [
      "<class 'str'>\nI Have a Dream, a song to sing\n\nTo help me cope, with anything\n\nIf you see the wonder, of a fairy tale\n\nYou can take the future, even if you fail\n\nI believe in angels\n\nSomething good in everything I see\n\nI believe in angels\n\nWhen I know the time is right for me\n\nI'll cross the stream, I Have a Dream\n"
     ]
    }
   ],
   "source": [
    "# with 사용 \n",
    "\n",
    "with open('dream.txt', 'r') as my_file:\n",
    "    contents = my_file.read()\n",
    "    print(type(contents))\n",
    "    print(contents)"
   ]
  },
  {
   "cell_type": "code",
   "execution_count": 11,
   "metadata": {},
   "outputs": [
    {
     "output_type": "stream",
     "name": "stdout",
     "text": [
      "<class 'list'>\n['I Have a Dream, a song to sing\\n', '\\n', 'To help me cope, with anything\\n', '\\n', 'If you see the wonder, of a fairy tale\\n', '\\n', 'You can take the future, even if you fail\\n', '\\n', 'I believe in angels\\n', '\\n', 'Something good in everything I see\\n', '\\n', 'I believe in angels\\n', '\\n', 'When I know the time is right for me\\n', '\\n', \"I'll cross the stream, I Have a Dream\"]\n"
     ]
    }
   ],
   "source": [
    "# 한 줄씩 읽어서 리스트로 반환 - readlines\n",
    "\n",
    "with open('dream.txt', 'r') as my_file:\n",
    "    contents_list = my_file.readlines()\n",
    "    print(type(contents_list))\n",
    "    print(contents_list)"
   ]
  },
  {
   "cell_type": "code",
   "execution_count": 12,
   "metadata": {},
   "outputs": [
    {
     "output_type": "execute_result",
     "data": {
      "text/plain": [
       "'I Have a Dream, a song to sing\\n'"
      ]
     },
     "metadata": {},
     "execution_count": 12
    }
   ],
   "source": [
    "contents_list[0]"
   ]
  },
  {
   "cell_type": "code",
   "execution_count": 13,
   "metadata": {},
   "outputs": [
    {
     "output_type": "stream",
     "name": "stdout",
     "text": [
      "I Have a Dream, a song to sing\n\nTo help me cope, with anything\n\nIf you see the wonder, of a fairy tale\n\nYou can take the future, even if you fail\n\nI believe in angels\n\nSomething good in everything I see\n\nI believe in angels\n\nWhen I know the time is right for me\n\nI'll cross the stream, I Have a Dream\n"
     ]
    }
   ],
   "source": [
    "# 한 줄 단위로 읽기 - readline\n",
    "with open('dream.txt','r') as my_file:\n",
    "    while True:\n",
    "        line = my_file.readline()\n",
    "        if not line: #  마지막을 따지는 조건  = 마지막 줄 다음줄\n",
    "            break\n",
    "        print(line.replace('\\n',''))\n"
   ]
  },
  {
   "cell_type": "code",
   "execution_count": 15,
   "metadata": {},
   "outputs": [
    {
     "output_type": "stream",
     "name": "stdout",
     "text": [
      "1 === I Have a Dream, a song to sing\n2 === \n3 === To help me cope, with anything\n4 === \n5 === If you see the wonder, of a fairy tale\n6 === \n7 === You can take the future, even if you fail\n8 === \n9 === I believe in angels\n10 === \n11 === Something good in everything I see\n12 === \n13 === I believe in angels\n14 === \n15 === When I know the time is right for me\n16 === \n17 === I'll cross the stream, I Have a Dream\n"
     ]
    }
   ],
   "source": [
    "# 한 줄 단위로 읽기 - readline\n",
    "with open('dream.txt','r') as my_file:\n",
    "    number = 1\n",
    "    while True:\n",
    "        line = my_file.readline()\n",
    "        if not line: #  마지막을 따지는 조건  = 마지막 줄 다음줄\n",
    "            break\n",
    "        print(number, '===', line.replace('\\n',''))\n",
    "        number += 1\n"
   ]
  },
  {
   "source": [
    "- 파일 쓰기 "
   ],
   "cell_type": "markdown",
   "metadata": {}
  },
  {
   "cell_type": "code",
   "execution_count": 16,
   "metadata": {},
   "outputs": [],
   "source": [
    "#  새로운 파일 new_file.txt 만들기\n",
    "\n",
    "with open('new_file.txt','w') as f:\n",
    "    f.write('A quick brown fox jumps over the lazy dog.')"
   ]
  },
  {
   "cell_type": "code",
   "execution_count": 18,
   "metadata": {},
   "outputs": [],
   "source": [
    "# write mode에서는 파일을 over write 한다. \n",
    "with open('new_file.txt','w', encoding = 'UTF-8') as f:\n",
    "    f.write('새로운 글을 씁니다.')"
   ]
  },
  {
   "cell_type": "code",
   "execution_count": 19,
   "metadata": {},
   "outputs": [],
   "source": [
    "# append \n",
    "with open('new_file.txt','a', encoding = 'UTF-8') as f:\n",
    "    f.write('A quick brown fox jumps over the lazy dog.\\n')\n",
    "    f.write('새로운 글을 씁니다.\\n')"
   ]
  },
  {
   "source": [
    "- 디렉토리 만들기"
   ],
   "cell_type": "markdown",
   "metadata": {}
  },
  {
   "cell_type": "code",
   "execution_count": 22,
   "metadata": {},
   "outputs": [],
   "source": [
    "import os \n",
    "os.mkdir('subdir') #os.mkdir(경로) # subdir폴더 만들기"
   ]
  },
  {
   "cell_type": "code",
   "execution_count": 20,
   "metadata": {},
   "outputs": [],
   "source": [
    "os.mkdir('subdir')"
   ]
  },
  {
   "cell_type": "code",
   "execution_count": null,
   "metadata": {},
   "outputs": [],
   "source": [
    "# 만약에 subdir가 없으면 subdir를 만들어라 \n",
    "if not os.path.exists('subdir'):  #subdir라는 폴더가 있다라는 의미 \n",
    "    os.mkdir('subdir')"
   ]
  },
  {
   "source": [
    "- 문제\n",
    "\n",
    "dream.txt 에서 홀수번째 라인만 읽어서 저장한파일을 subdir/dreams_odd.txt 로 저장 "
   ],
   "cell_type": "markdown",
   "metadata": {}
  },
  {
   "cell_type": "code",
   "execution_count": 60,
   "metadata": {},
   "outputs": [],
   "source": [
    "# dreams.txt에서 한 줄씩 읽어서 리스트로 넣기\n",
    "with open('dream.txt', 'r') as f:\n",
    "    lines= f.readlines()\n",
    "\n",
    "# 먼저 디렉토리를 만들고 파일을 만들어야함 \n",
    "if not os.path.exists('subdir'):\n",
    "    os.mkdir('subdir')\n",
    "\n",
    "\n",
    "#  subdir/ 디렉토리 안에 dreams_odd.txt 파일을 만들겠다. wf라고 부르겠다.\n",
    "with open('subdir/dreams_odd.txt','w') as wf:\n",
    "    # 리스트에서 인덱스값 까지 가져와야함\n",
    "    for index, line in enumerate(lines): #lines에서 가져온 line의 인덱스를 가져오겠다.\n",
    "        if index % 2 == 0: \n",
    "            wf.write(line)\n"
   ]
  },
  {
   "source": [
    "- binary data - pickle 모듈 활용"
   ],
   "cell_type": "markdown",
   "metadata": {}
  },
  {
   "cell_type": "code",
   "execution_count": 72,
   "metadata": {},
   "outputs": [],
   "source": [
    "test_list = [1, True, 3.14, 'String'] #binary data"
   ]
  },
  {
   "cell_type": "code",
   "execution_count": 73,
   "metadata": {},
   "outputs": [
    {
     "output_type": "error",
     "ename": "FileNotFoundError",
     "evalue": "[Errno 2] No such file or directory: 'list.pickle'",
     "traceback": [
      "\u001b[1;31m---------------------------------------------------------------------------\u001b[0m",
      "\u001b[1;31mFileNotFoundError\u001b[0m                         Traceback (most recent call last)",
      "\u001b[1;32m<ipython-input-73-e0c3752f3780>\u001b[0m in \u001b[0;36m<module>\u001b[1;34m\u001b[0m\n\u001b[0;32m      3\u001b[0m \u001b[1;32mimport\u001b[0m \u001b[0mpickle\u001b[0m\u001b[1;33m\u001b[0m\u001b[1;33m\u001b[0m\u001b[0m\n\u001b[0;32m      4\u001b[0m \u001b[1;33m\u001b[0m\u001b[0m\n\u001b[1;32m----> 5\u001b[1;33m \u001b[1;32mwith\u001b[0m \u001b[0mopen\u001b[0m\u001b[1;33m(\u001b[0m\u001b[1;34m'list.pickle'\u001b[0m\u001b[1;33m)\u001b[0m\u001b[1;33m,\u001b[0m\u001b[1;34m'wb'\u001b[0m \u001b[1;32mas\u001b[0m \u001b[0mbf\u001b[0m\u001b[1;33m:\u001b[0m\u001b[1;33m\u001b[0m\u001b[1;33m\u001b[0m\u001b[0m\n\u001b[0m\u001b[0;32m      6\u001b[0m     \u001b[0mpickle\u001b[0m\u001b[1;33m.\u001b[0m\u001b[0mdump\u001b[0m\u001b[1;33m(\u001b[0m\u001b[0mtest_list\u001b[0m\u001b[1;33m,\u001b[0m \u001b[0mbf\u001b[0m\u001b[1;33m)\u001b[0m\u001b[1;33m\u001b[0m\u001b[1;33m\u001b[0m\u001b[0m\n",
      "\u001b[1;31mFileNotFoundError\u001b[0m: [Errno 2] No such file or directory: 'list.pickle'"
     ]
    }
   ],
   "source": [
    "#리스트로 저장\n",
    "\n",
    "import pickle \n",
    "\n",
    "with open('list.pickle'),'wb' as bf:\n",
    "    pickle.dump(test_list, bf)"
   ]
  },
  {
   "cell_type": "code",
   "execution_count": 74,
   "metadata": {},
   "outputs": [
    {
     "output_type": "error",
     "ename": "FileNotFoundError",
     "evalue": "[Errno 2] No such file or directory: 'list.pickle'",
     "traceback": [
      "\u001b[1;31m---------------------------------------------------------------------------\u001b[0m",
      "\u001b[1;31mFileNotFoundError\u001b[0m                         Traceback (most recent call last)",
      "\u001b[1;32m<ipython-input-74-5d4672e25672>\u001b[0m in \u001b[0;36m<module>\u001b[1;34m\u001b[0m\n\u001b[0;32m      1\u001b[0m \u001b[1;31m# 리스트 읽기\u001b[0m\u001b[1;33m\u001b[0m\u001b[1;33m\u001b[0m\u001b[1;33m\u001b[0m\u001b[0m\n\u001b[0;32m      2\u001b[0m \u001b[1;33m\u001b[0m\u001b[0m\n\u001b[1;32m----> 3\u001b[1;33m \u001b[1;32mwith\u001b[0m \u001b[0mopen\u001b[0m\u001b[1;33m(\u001b[0m\u001b[1;34m'list.pickle'\u001b[0m\u001b[1;33m,\u001b[0m\u001b[1;34m'rb'\u001b[0m\u001b[1;33m)\u001b[0m \u001b[1;32mas\u001b[0m \u001b[0mbf\u001b[0m\u001b[1;33m:\u001b[0m\u001b[1;33m\u001b[0m\u001b[1;33m\u001b[0m\u001b[0m\n\u001b[0m\u001b[0;32m      4\u001b[0m     \u001b[0mx\u001b[0m \u001b[1;33m=\u001b[0m \u001b[0mpickle\u001b[0m\u001b[1;33m.\u001b[0m\u001b[0mload\u001b[0m\u001b[1;33m(\u001b[0m\u001b[0mbf\u001b[0m\u001b[1;33m)\u001b[0m\u001b[1;33m\u001b[0m\u001b[1;33m\u001b[0m\u001b[0m\n\u001b[0;32m      5\u001b[0m \u001b[0mx\u001b[0m\u001b[1;33m\u001b[0m\u001b[1;33m\u001b[0m\u001b[0m\n",
      "\u001b[1;31mFileNotFoundError\u001b[0m: [Errno 2] No such file or directory: 'list.pickle'"
     ]
    }
   ],
   "source": [
    "# 리스트 읽기 \n",
    "\n",
    "with open('list.pickle','rb') as bf:\n",
    "    x = pickle.load(bf)\n",
    "x    "
   ]
  },
  {
   "cell_type": "code",
   "execution_count": null,
   "metadata": {},
   "outputs": [],
   "source": []
  }
 ]
}