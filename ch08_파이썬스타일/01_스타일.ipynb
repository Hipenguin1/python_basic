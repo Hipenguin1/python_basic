{
 "metadata": {
  "language_info": {
   "codemirror_mode": {
    "name": "ipython",
    "version": 3
   },
   "file_extension": ".py",
   "mimetype": "text/x-python",
   "name": "python",
   "nbconvert_exporter": "python",
   "pygments_lexer": "ipython3",
   "version": "3.8.5"
  },
  "orig_nbformat": 2,
  "kernelspec": {
   "name": "python385jvsc74a57bd08c1eae21719a0790335dcb83aad72b63b602cfe5cdb2bda0f60bc11d4f154e4b",
   "display_name": "Python 3.8.5 64-bit ('base': conda)"
  }
 },
 "nbformat": 4,
 "nbformat_minor": 2,
 "cells": [
  {
   "source": [
    "# 8장. 파이썬 스타일 코드 I"
   ],
   "cell_type": "markdown",
   "metadata": {}
  },
  {
   "source": [
    "## 1. join (리스트를 문자열로)"
   ],
   "cell_type": "markdown",
   "metadata": {}
  },
  {
   "cell_type": "code",
   "execution_count": null,
   "metadata": {},
   "outputs": [],
   "source": [
    "# 조인  # 문자열로 구성된 리스트를 합쳐 하나의 문자열로 "
   ]
  },
  {
   "cell_type": "code",
   "execution_count": null,
   "metadata": {},
   "outputs": [],
   "source": [
    "colors = ['red','blue','green','yellow'] \n",
    "\n",
    "#하나의 string으로 만드는데 \n",
    "# redbluegreenyellow\n",
    "# red blue green yellow\n",
    "# red, blue, green, yellow"
   ]
  },
  {
   "cell_type": "code",
   "execution_count": 1,
   "metadata": {},
   "outputs": [
    {
     "output_type": "execute_result",
     "data": {
      "text/plain": [
       "'redbluegreenyellow'"
      ]
     },
     "metadata": {},
     "execution_count": 1
    }
   ],
   "source": [
    "colors = ['red','blue','green','yellow'] \n",
    "\\\n",
    "color_text = ''\n",
    "for color in colors:\n",
    "    color_text += color\n",
    "color_text\n"
   ]
  },
  {
   "cell_type": "code",
   "execution_count": 2,
   "metadata": {},
   "outputs": [
    {
     "output_type": "execute_result",
     "data": {
      "text/plain": [
       "'red, blue, green, yellow, '"
      ]
     },
     "metadata": {},
     "execution_count": 2
    }
   ],
   "source": [
    "color_text = ''\n",
    "for color in colors:\n",
    "    color_text += color + ', ' # ', ' 붙여줌 그러면 color각 값의 맨 끝인걸 앎\n",
    "color_text"
   ]
  },
  {
   "cell_type": "code",
   "execution_count": 4,
   "metadata": {},
   "outputs": [
    {
     "output_type": "execute_result",
     "data": {
      "text/plain": [
       "'red, blue, green, yellow'"
      ]
     },
     "metadata": {},
     "execution_count": 4
    }
   ],
   "source": [
    "# (yellow,),를 빼려면 \n",
    "\n",
    "color_text = ''\n",
    "for index, color in enumerate(colors):\n",
    "    color_text += color\n",
    "    if index != len(colors) - 1:  #하나 뺀거와 같지 않으면\n",
    "         color_text += ', '\n",
    "color_text"
   ]
  },
  {
   "cell_type": "code",
   "execution_count": 5,
   "metadata": {},
   "outputs": [
    {
     "output_type": "execute_result",
     "data": {
      "text/plain": [
       "'red, blue, green, yellow'"
      ]
     },
     "metadata": {},
     "execution_count": 5
    }
   ],
   "source": [
    "# 위에 복잡한 코드를 한줄로 표현하기\n",
    "\n",
    "', '.join(colors)"
   ]
  },
  {
   "cell_type": "code",
   "execution_count": 9,
   "metadata": {},
   "outputs": [
    {
     "output_type": "execute_result",
     "data": {
      "text/plain": [
       "'red- blue- green- yellow'"
      ]
     },
     "metadata": {},
     "execution_count": 9
    }
   ],
   "source": [
    "'- '.join(color for color in colors) # 리스트 표현식 #조인하고 리스트같이 반복하는 데이터가 와주면 한방에 묶어줌 "
   ]
  },
  {
   "source": [
    "## 2. List Comprehension"
   ],
   "cell_type": "markdown",
   "metadata": {}
  },
  {
   "cell_type": "code",
   "execution_count": null,
   "metadata": {},
   "outputs": [],
   "source": [
    "#일반적인 반복문 +_리스트\n",
    "빈 리스트를 만들고 \n",
    "반목문을 돌리는데\n",
    "    리스트에 어펜드 \n",
    "\n",
    "#기존 방법\n",
    "empty_list = []\n",
    "for i in range(10):\n",
    "    empty_list.append(i)\n",
    "empty_list"
   ]
  },
  {
   "cell_type": "code",
   "execution_count": 10,
   "metadata": {},
   "outputs": [
    {
     "output_type": "execute_result",
     "data": {
      "text/plain": [
       "[0, 1, 2, 3, 4, 5, 6, 7, 8, 9]"
      ]
     },
     "metadata": {},
     "execution_count": 10
    }
   ],
   "source": [
    "#리스트 컴프리헨션\n",
    "\n",
    "[i for i in range(10)] "
   ]
  },
  {
   "cell_type": "code",
   "execution_count": 17,
   "metadata": {},
   "outputs": [
    {
     "output_type": "execute_result",
     "data": {
      "text/plain": [
       "[0, 1, 2, 3, 4, 5, 6, 7, 8, 9]"
      ]
     },
     "metadata": {},
     "execution_count": 17
    }
   ],
   "source": [
    "a1 =[i for i in range(10)]\n",
    "a1"
   ]
  },
  {
   "cell_type": "code",
   "execution_count": 11,
   "metadata": {},
   "outputs": [
    {
     "output_type": "execute_result",
     "data": {
      "text/plain": [
       "[0, 1, 4, 9, 16, 25, 36, 49, 64, 81]"
      ]
     },
     "metadata": {},
     "execution_count": 11
    }
   ],
   "source": [
    "[i*i for i in range(10)]  #제곱수\n",
    "# 맨 앞의 값이 뭐냐에 따라 결과값이 다름"
   ]
  },
  {
   "cell_type": "code",
   "execution_count": 18,
   "metadata": {},
   "outputs": [
    {
     "output_type": "execute_result",
     "data": {
      "text/plain": [
       "[5, 4, 7, 14, 25, 40, 59, 82, 109, 140]"
      ]
     },
     "metadata": {},
     "execution_count": 18
    }
   ],
   "source": [
    "[2*x*x - 3*x + 5 for x in range(10)] #방정식 가능"
   ]
  },
  {
   "cell_type": "code",
   "execution_count": 19,
   "metadata": {},
   "outputs": [
    {
     "output_type": "execute_result",
     "data": {
      "text/plain": [
       "[1.0,\n",
       " 1.4142135623730951,\n",
       " 1.7320508075688772,\n",
       " 2.0,\n",
       " 2.23606797749979,\n",
       " 2.449489742783178,\n",
       " 2.6457513110645907,\n",
       " 2.8284271247461903,\n",
       " 3.0,\n",
       " 3.1622776601683795]"
      ]
     },
     "metadata": {},
     "execution_count": 19
    }
   ],
   "source": [
    "import math\n",
    "[math.sqrt(x) for x in range(1,11)]"
   ]
  },
  {
   "source": [
    "- 조건을 부여할 수 있음 --> filtering"
   ],
   "cell_type": "markdown",
   "metadata": {}
  },
  {
   "cell_type": "code",
   "execution_count": 22,
   "metadata": {},
   "outputs": [
    {
     "output_type": "execute_result",
     "data": {
      "text/plain": [
       "[0, 2, 4, 6, 8]"
      ]
     },
     "metadata": {},
     "execution_count": 22
    }
   ],
   "source": [
    "# 짝수만 보여주고 싶을 때\n",
    "[i for i in range(10) if i%2 == 0] #i중에 짝수만 추출. 2로나누었을 때 0이되는 숫자들만 #콜론, 인덴테이션 무시하고 한줄로 가능~.~"
   ]
  },
  {
   "cell_type": "code",
   "execution_count": 23,
   "metadata": {},
   "outputs": [
    {
     "output_type": "execute_result",
     "data": {
      "text/plain": [
       "[0, 'odd', 2, 'odd', 4, 'odd', 6, 'odd', 8, 'odd']"
      ]
     },
     "metadata": {},
     "execution_count": 23
    }
   ],
   "source": [
    "# 3항 연산자 활용\n",
    "[i if i % 2 == 0 else 'odd' for i in range(10)]\n",
    "#[밸류(i if i % 2 == 0 else 'odd' )] #3항 연산자도 밸류값 가능~"
   ]
  },
  {
   "source": [
    "- 중첩 반복뭄"
   ],
   "cell_type": "markdown",
   "metadata": {}
  },
  {
   "cell_type": "code",
   "execution_count": 24,
   "metadata": {},
   "outputs": [
    {
     "output_type": "execute_result",
     "data": {
      "text/plain": [
       "['1x', '1y', '1z', '2x', '2y', '2z', '3x', '3y', '3z']"
      ]
     },
     "metadata": {},
     "execution_count": 24
    }
   ],
   "source": [
    "str1 = '123'\n",
    "str2 = 'xyz'\n",
    "[i + k for i in str1 for k in str2] # i+k는 for in str1이고 for k in str2 / for 안에 for가 있음"
   ]
  },
  {
   "cell_type": "code",
   "execution_count": 25,
   "metadata": {},
   "outputs": [
    {
     "output_type": "execute_result",
     "data": {
      "text/plain": [
       "['1x', '1y', '1z', '2x', '2y', '2z', '3x', '3y', '3z']"
      ]
     },
     "metadata": {},
     "execution_count": 25
    }
   ],
   "source": [
    "# 보기 편하려면 이렇게!\n",
    "\n",
    "[i + k for i in str1 \\\n",
    "           for k in str2] "
   ]
  },
  {
   "source": [
    "- 2차원 리스트 만들기"
   ],
   "cell_type": "markdown",
   "metadata": {}
  },
  {
   "cell_type": "code",
   "execution_count": 27,
   "metadata": {},
   "outputs": [
    {
     "output_type": "execute_result",
     "data": {
      "text/plain": [
       "[['A'],\n",
       " ['quick'],\n",
       " ['brown'],\n",
       " ['fox'],\n",
       " ['jumps'],\n",
       " ['over'],\n",
       " ['the'],\n",
       " ['lazy'],\n",
       " ['dog']]"
      ]
     },
     "metadata": {},
     "execution_count": 27
    }
   ],
   "source": [
    "text = 'A quick brown fox jumps over the lazy dog'\n",
    "[[word]for word in text.split()] #리스트를 하나 뽑아서 하나씩 된 리스트를 만들기"
   ]
  },
  {
   "cell_type": "code",
   "execution_count": 29,
   "metadata": {},
   "outputs": [
    {
     "output_type": "execute_result",
     "data": {
      "text/plain": [
       "[['A', 'a', 1],\n",
       " ['QUICK', 'quick', 5],\n",
       " ['BROWN', 'brown', 5],\n",
       " ['FOX', 'fox', 3],\n",
       " ['JUMPS', 'jumps', 5],\n",
       " ['OVER', 'over', 4],\n",
       " ['THE', 'the', 3],\n",
       " ['LAZY', 'lazy', 4],\n",
       " ['DOG', 'dog', 3]]"
      ]
     },
     "metadata": {},
     "execution_count": 29
    }
   ],
   "source": [
    "[[w.upper(), w.lower(), len(w)] for w in text.split()]\n",
    "\n",
    "# []안에 리스트 밖의 []도 리스트 [ [대문자,소문자,길이 ] for w에 넣고 in text변수를 띄어쓰기로 나눠서 w에 넣고 그 w에서 ]"
   ]
  },
  {
   "source": [
    "- 성능"
   ],
   "cell_type": "markdown",
   "metadata": {}
  },
  {
   "cell_type": "code",
   "execution_count": 30,
   "metadata": {},
   "outputs": [],
   "source": [
    "def scalar_vector_product(scalar, vector):\n",
    "    result = []\n",
    "    for value in vector:\n",
    "        result.append(scalar * vector)\n",
    "    return result"
   ]
  },
  {
   "cell_type": "code",
   "execution_count": 35,
   "metadata": {},
   "outputs": [],
   "source": [
    "iteration = 1000\n",
    "vector = list(range(iteration))\n",
    "scalar = 2"
   ]
  },
  {
   "cell_type": "code",
   "execution_count": 36,
   "metadata": {},
   "outputs": [
    {
     "output_type": "stream",
     "name": "stdout",
     "text": [
      "Wall time: 9.69 s\n"
     ]
    }
   ],
   "source": [
    "%%time  #시간 재보기%time  #시간 재보기\n",
    "for _ in range(iteration):\n",
    "    scalar_vector_product(scalar,vector)\n",
    "for _ in range(iteration):\n",
    "    scalar_vector_product(scalar,vector)"
   ]
  },
  {
   "cell_type": "code",
   "execution_count": 37,
   "metadata": {},
   "outputs": [
    {
     "output_type": "stream",
     "name": "stdout",
     "text": [
      "Wall time: 67.9 ms\n"
     ]
    }
   ],
   "source": [
    "%%time \n",
    "for _ in range(iteration):\n",
    "    [scalar * value for value in range(iteration)]"
   ]
  },
  {
   "source": [
    "### 20.10 심사문제\n",
    "표준 입력으로 정수 두 개가 입력됩니다(첫 번째 입력 값의 범위는 1~20, 두 번째 입력 값의 범위는 10~30이며 첫 번째 입력 값은 두 번째 입력 값보다 항상 작습니다). 첫 번째 정수부터 두 번째 정수까지를 지수로 하는 2의 거듭제곱 리스트를 출력하는 프로그램을 만드세요(input에서 안내 문자열은 출력하지 않아야 합니다). 단, 리스트의 두 번째 요소와 뒤에서 두 번째 요소는 삭제한 뒤 출력하세요. 출력 결과는 리스트 형태라야 합니다."
   ],
   "cell_type": "markdown",
   "metadata": {}
  },
  {
   "cell_type": "code",
   "execution_count": 42,
   "metadata": {},
   "outputs": [],
   "source": [
    "def calc():\n",
    "    if 0< x < 21 and 9< y < 31:\n",
    "        x,y = input().split()\n",
    "    \n"
   ]
  },
  {
   "cell_type": "code",
   "execution_count": null,
   "metadata": {},
   "outputs": [],
   "source": [
    "x**2 for i in range"
   ]
  },
  {
   "cell_type": "code",
   "execution_count": 46,
   "metadata": {},
   "outputs": [
    {
     "output_type": "error",
     "ename": "UnboundLocalError",
     "evalue": "local variable 'y' referenced before assignment",
     "traceback": [
      "\u001b[1;31m---------------------------------------------------------------------------\u001b[0m",
      "\u001b[1;31mUnboundLocalError\u001b[0m                         Traceback (most recent call last)",
      "\u001b[1;32m<ipython-input-46-d8da141b2351>\u001b[0m in \u001b[0;36m<module>\u001b[1;34m\u001b[0m\n\u001b[0;32m      1\u001b[0m \u001b[1;31m# 4부터 12까지를 2의 거듭제곱 리스트를 출력\u001b[0m\u001b[1;33m\u001b[0m\u001b[1;33m\u001b[0m\u001b[1;33m\u001b[0m\u001b[0m\n\u001b[0;32m      2\u001b[0m \u001b[1;33m\u001b[0m\u001b[0m\n\u001b[1;32m----> 3\u001b[1;33m \u001b[1;33m[\u001b[0m \u001b[0mx\u001b[0m\u001b[1;33m**\u001b[0m\u001b[1;36m2\u001b[0m \u001b[1;32mfor\u001b[0m \u001b[0mx\u001b[0m \u001b[1;32min\u001b[0m \u001b[0mrange\u001b[0m\u001b[1;33m(\u001b[0m\u001b[0my\u001b[0m\u001b[1;33m)\u001b[0m \u001b[1;32mfor\u001b[0m \u001b[0my\u001b[0m \u001b[1;32min\u001b[0m \u001b[0mrange\u001b[0m\u001b[1;33m(\u001b[0m\u001b[0my\u001b[0m\u001b[1;33m)\u001b[0m \u001b[1;33m]\u001b[0m\u001b[1;33m\u001b[0m\u001b[1;33m\u001b[0m\u001b[0m\n\u001b[0m",
      "\u001b[1;32m<ipython-input-46-d8da141b2351>\u001b[0m in \u001b[0;36m<listcomp>\u001b[1;34m(.0)\u001b[0m\n\u001b[0;32m      1\u001b[0m \u001b[1;31m# 4부터 12까지를 2의 거듭제곱 리스트를 출력\u001b[0m\u001b[1;33m\u001b[0m\u001b[1;33m\u001b[0m\u001b[1;33m\u001b[0m\u001b[0m\n\u001b[0;32m      2\u001b[0m \u001b[1;33m\u001b[0m\u001b[0m\n\u001b[1;32m----> 3\u001b[1;33m \u001b[1;33m[\u001b[0m \u001b[0mx\u001b[0m\u001b[1;33m**\u001b[0m\u001b[1;36m2\u001b[0m \u001b[1;32mfor\u001b[0m \u001b[0mx\u001b[0m \u001b[1;32min\u001b[0m \u001b[0mrange\u001b[0m\u001b[1;33m(\u001b[0m\u001b[0my\u001b[0m\u001b[1;33m)\u001b[0m \u001b[1;32mfor\u001b[0m \u001b[0my\u001b[0m \u001b[1;32min\u001b[0m \u001b[0mrange\u001b[0m\u001b[1;33m(\u001b[0m\u001b[0my\u001b[0m\u001b[1;33m)\u001b[0m \u001b[1;33m]\u001b[0m\u001b[1;33m\u001b[0m\u001b[1;33m\u001b[0m\u001b[0m\n\u001b[0m",
      "\u001b[1;31mUnboundLocalError\u001b[0m: local variable 'y' referenced before assignment"
     ]
    }
   ],
   "source": [
    "\n",
    "# 4부터 12까지를 2의 거듭제곱 리스트를 출력\n",
    "\n",
    "[ x**2 for x in range(y) for y in range(y) ]"
   ]
  },
  {
   "cell_type": "code",
   "execution_count": null,
   "metadata": {},
   "outputs": [],
   "source": [
    "for _ in range()"
   ]
  },
  {
   "cell_type": "code",
   "execution_count": null,
   "metadata": {},
   "outputs": [],
   "source": [
    "#답"
   ]
  },
  {
   "cell_type": "code",
   "execution_count": 49,
   "metadata": {},
   "outputs": [
    {
     "output_type": "execute_result",
     "data": {
      "text/plain": [
       "[8, 32, 64, 128, 256, 1024]"
      ]
     },
     "metadata": {},
     "execution_count": 49
    }
   ],
   "source": [
    "first, second = map(int,input().split()) #input map int # i가 first+1이 아니고 # rnge(시작값, 끝나는값)\n",
    "[2 ** i for i in range(first,second+1) \\\n",
    "       if i != first+1 and i != second -1 ] # i는 첫번째 값+1 과 같지 않아야하고 i가 두번째 값 마지막꺼와 같지 않아야하 \n",
    "     "
   ]
  },
  {
   "source": [
    "### 3. Dictionary Comprehension"
   ],
   "cell_type": "markdown",
   "metadata": {}
  },
  {
   "cell_type": "code",
   "execution_count": 51,
   "metadata": {},
   "outputs": [
    {
     "output_type": "execute_result",
     "data": {
      "text/plain": [
       "{'a': 10, 'b': 20, 'c': 30, 'd': 40}"
      ]
     },
     "metadata": {},
     "execution_count": 51
    }
   ],
   "source": [
    "x = {'a':10,'b':20,'c':30,'d':40,}\n",
    "{key:value for key, value in x.items()}"
   ]
  },
  {
   "cell_type": "code",
   "execution_count": 53,
   "metadata": {},
   "outputs": [
    {
     "output_type": "stream",
     "name": "stdout",
     "text": [
      "0 apple\n1 banana\n2 cherry\n"
     ]
    }
   ],
   "source": [
    "fruits = ['apple','banana','cherry']\n",
    "for i, fruit in enumerate(fruits):\n",
    "    print(i, fruit)"
   ]
  },
  {
   "cell_type": "code",
   "execution_count": 54,
   "metadata": {},
   "outputs": [
    {
     "output_type": "execute_result",
     "data": {
      "text/plain": [
       "{'apple': 1000, 'banana': 2000, 'cherry': 3000}"
      ]
     },
     "metadata": {},
     "execution_count": 54
    }
   ],
   "source": [
    "{fruit: i * 1000+1000 for i, fruit in enumerate(fruits)}"
   ]
  },
  {
   "cell_type": "code",
   "execution_count": 57,
   "metadata": {},
   "outputs": [
    {
     "output_type": "execute_result",
     "data": {
      "text/plain": [
       "1787"
      ]
     },
     "metadata": {},
     "execution_count": 57
    }
   ],
   "source": [
    "import random\n",
    "random.randint(1000,2000)"
   ]
  },
  {
   "cell_type": "code",
   "execution_count": 58,
   "metadata": {},
   "outputs": [
    {
     "output_type": "execute_result",
     "data": {
      "text/plain": [
       "{'apple': 1000, 'banana': 1600, 'cherry': 1700}"
      ]
     },
     "metadata": {},
     "execution_count": 58
    }
   ],
   "source": [
    "{fruit:random.randint(10,20)*100 for fruit in fruits}"
   ]
  },
  {
   "cell_type": "code",
   "execution_count": 59,
   "metadata": {},
   "outputs": [
    {
     "output_type": "execute_result",
     "data": {
      "text/plain": [
       "{'a': 10, 'b': 20, 'd': 40}"
      ]
     },
     "metadata": {},
     "execution_count": 59
    }
   ],
   "source": [
    "# 딕셔너리 필터링 #값이 30을 빼기 \n",
    "x = {'a':10,'b':20,'c':30,'d':40,}\n",
    "{key:value for key, value in x.items() if value !=30}"
   ]
  },
  {
   "source": [
    "### 4. 다양한 방식의 리스트 출력"
   ],
   "cell_type": "markdown",
   "metadata": {}
  },
  {
   "cell_type": "code",
   "execution_count": 60,
   "metadata": {},
   "outputs": [
    {
     "output_type": "stream",
     "name": "stdout",
     "text": [
      "0 apple\n1 banana\n2 cherry\n"
     ]
    }
   ],
   "source": [
    "# enumerate \n",
    "for i, fruit in enumerate(fruits):\n",
    "    print(i, fruit)"
   ]
  },
  {
   "cell_type": "code",
   "execution_count": 62,
   "metadata": {},
   "outputs": [
    {
     "output_type": "execute_result",
     "data": {
      "text/plain": [
       "[('a1', 'b1'), ('a2', 'b2'), ('a3', 'b3')]"
      ]
     },
     "metadata": {},
     "execution_count": 62
    }
   ],
   "source": [
    "alist = ['a1','a2','a3']\n",
    "blist = ['b1','b2','b3']\n",
    "list(zip(alist, blist))"
   ]
  },
  {
   "cell_type": "code",
   "execution_count": 63,
   "metadata": {},
   "outputs": [
    {
     "output_type": "execute_result",
     "data": {
      "text/plain": [
       "{'a1': 'b1', 'a2': 'b2', 'a3': 'b3'}"
      ]
     },
     "metadata": {},
     "execution_count": 63
    }
   ],
   "source": [
    "{a:b for a, b in zip(alist, blist)}"
   ]
  },
  {
   "cell_type": "code",
   "execution_count": 65,
   "metadata": {},
   "outputs": [
    {
     "output_type": "execute_result",
     "data": {
      "text/plain": [
       "[(0, ('a1', 'b1')), (1, ('a2', 'b2')), (2, ('a3', 'b3'))]"
      ]
     },
     "metadata": {},
     "execution_count": 65
    }
   ],
   "source": [
    "list(enumerate(zip(alist,blist)))"
   ]
  },
  {
   "cell_type": "code",
   "execution_count": 66,
   "metadata": {},
   "outputs": [
    {
     "output_type": "stream",
     "name": "stdout",
     "text": [
      "0 a1 b1\n1 a2 b2\n2 a3 b3\n"
     ]
    }
   ],
   "source": [
    "for i, (a,b) in enumerate(zip(alist,blist)):\n",
    "    print(i,a,b)"
   ]
  }
 ]
}