{
 "metadata": {
  "language_info": {
   "codemirror_mode": {
    "name": "ipython",
    "version": 3
   },
   "file_extension": ".py",
   "mimetype": "text/x-python",
   "name": "python",
   "nbconvert_exporter": "python",
   "pygments_lexer": "ipython3",
   "version": "3.8.5"
  },
  "orig_nbformat": 2,
  "kernelspec": {
   "name": "python385jvsc74a57bd08c1eae21719a0790335dcb83aad72b63b602cfe5cdb2bda0f60bc11d4f154e4b",
   "display_name": "Python 3.8.5 64-bit ('base': conda)"
  }
 },
 "nbformat": 4,
 "nbformat_minor": 2,
 "cells": [
  {
   "source": [
    "# 딕셔너리 (Dictionary)"
   ],
   "cell_type": "markdown",
   "metadata": {}
  },
  {
   "source": [
    "## 딕셔너리 만들기(c)"
   ],
   "cell_type": "markdown",
   "metadata": {}
  },
  {
   "cell_type": "code",
   "execution_count": 27,
   "metadata": {},
   "outputs": [
    {
     "output_type": "execute_result",
     "data": {
      "text/plain": [
       "{'health': 490, 'mana': 334, 'melee': 550, 'armor': 18.72}"
      ]
     },
     "metadata": {},
     "execution_count": 27
    }
   ],
   "source": [
    "# 방법 1\n",
    "lux = {'health':490, 'mana':334, 'melee':550,'armor':18.72}\n",
    "lux"
   ]
  },
  {
   "cell_type": "code",
   "execution_count": 28,
   "metadata": {},
   "outputs": [
    {
     "output_type": "execute_result",
     "data": {
      "text/plain": [
       "{'health': 490, 'mana': 334, 'melee': 550, 'armor': 18.72}"
      ]
     },
     "metadata": {},
     "execution_count": 28
    }
   ],
   "source": [
    "#dict 함수에 키 콜밸류 키콜밸류 키콜밸류 \n",
    "\n",
    "lux1 = dict(health=490, mana= 334, melee= 550, armor= 18.72 )\n",
    "lux1"
   ]
  },
  {
   "cell_type": "code",
   "execution_count": 1,
   "metadata": {},
   "outputs": [
    {
     "output_type": "execute_result",
     "data": {
      "text/plain": [
       "{'health': 490, 'mana': 334, 'melee': 550, 'armor': 18.72}"
      ]
     },
     "metadata": {},
     "execution_count": 1
    }
   ],
   "source": [
    "#방법 3: 키 밸류에 튜플/리스트\n",
    "\n",
    "lux2 = dict([('health', 490), ('mana', 334),\n",
    "             ('melee', 550), ('armor', 18.72)])\n",
    "lux2"
   ]
  },
  {
   "cell_type": "code",
   "execution_count": 30,
   "metadata": {},
   "outputs": [
    {
     "output_type": "execute_result",
     "data": {
      "text/plain": [
       "[(1, 'a'), (2, 'b'), (3, 'c')]"
      ]
     },
     "metadata": {},
     "execution_count": 30
    }
   ],
   "source": [
    "# 방법 4: zip함수를 이용하여 키하고 밸류를 하나씩 묶음\n",
    "\n",
    "\n",
    "list(zip([1, 2, 3], ['a', 'b', 'c']))"
   ]
  },
  {
   "cell_type": "code",
   "execution_count": 31,
   "metadata": {},
   "outputs": [
    {
     "output_type": "execute_result",
     "data": {
      "text/plain": [
       "[('health', 490), ('mana', 334), ('melee', 550), ('armor', 18.72)]"
      ]
     },
     "metadata": {},
     "execution_count": 31
    }
   ],
   "source": [
    "key_list = ['health','mana','melee','armor']\n",
    "val_list = [490, 334, 550, 18.72]\n",
    "list(zip(key_list, val_list))"
   ]
  },
  {
   "cell_type": "code",
   "execution_count": 32,
   "metadata": {},
   "outputs": [
    {
     "output_type": "execute_result",
     "data": {
      "text/plain": [
       "{'health': 490, 'mana': 334, 'melee': 550, 'armor': 18.72}"
      ]
     },
     "metadata": {},
     "execution_count": 32
    }
   ],
   "source": [
    "lux3 = dict(zip(key_list,val_list))\n",
    "lux3"
   ]
  },
  {
   "source": [
    "## - 딕셔너리 참조하기(R)"
   ],
   "cell_type": "markdown",
   "metadata": {}
  },
  {
   "cell_type": "code",
   "execution_count": 33,
   "metadata": {},
   "outputs": [
    {
     "output_type": "execute_result",
     "data": {
      "text/plain": [
       "490"
      ]
     },
     "metadata": {},
     "execution_count": 33
    }
   ],
   "source": [
    "lux['health']"
   ]
  },
  {
   "source": [
    "### - 딕셔너리 값 변경하기(U)"
   ],
   "cell_type": "markdown",
   "metadata": {}
  },
  {
   "cell_type": "code",
   "execution_count": 34,
   "metadata": {},
   "outputs": [
    {
     "output_type": "execute_result",
     "data": {
      "text/plain": [
       "{'health': 600, 'mana': 334, 'melee': 550, 'armor': 18.72}"
      ]
     },
     "metadata": {},
     "execution_count": 34
    }
   ],
   "source": [
    "lux['health'] = 600\n",
    "lux"
   ]
  },
  {
   "cell_type": "code",
   "execution_count": 35,
   "metadata": {},
   "outputs": [
    {
     "output_type": "execute_result",
     "data": {
      "text/plain": [
       "{'health': 600, 'mana': 434, 'melee': 550, 'armor': 18.72}"
      ]
     },
     "metadata": {},
     "execution_count": 35
    }
   ],
   "source": [
    "lux['mana'] += 100\n",
    "lux"
   ]
  },
  {
   "cell_type": "code",
   "execution_count": 36,
   "metadata": {},
   "outputs": [
    {
     "output_type": "execute_result",
     "data": {
      "text/plain": [
       "{'health': 600, 'mana': 434, 'melee': 550, 'armor': 18.72, 'mana_regen': 3.28}"
      ]
     },
     "metadata": {},
     "execution_count": 36
    }
   ],
   "source": [
    "# lux에 없는 값을 이렇게 입력하면 새로운 값이 추가가 됨!\n",
    "\n",
    "lux['mana_regen'] = 3.28\n",
    "lux"
   ]
  },
  {
   "source": [
    "## - 딕셔너리 값 삭제하기(D)"
   ],
   "cell_type": "markdown",
   "metadata": {}
  },
  {
   "cell_type": "code",
   "execution_count": 37,
   "metadata": {},
   "outputs": [
    {
     "output_type": "execute_result",
     "data": {
      "text/plain": [
       "{'health': 600, 'mana': 434, 'melee': 550, 'armor': 18.72}"
      ]
     },
     "metadata": {},
     "execution_count": 37
    }
   ],
   "source": [
    "lux.pop('mana_regen')\n",
    "lux"
   ]
  },
  {
   "cell_type": "code",
   "execution_count": 38,
   "metadata": {},
   "outputs": [
    {
     "output_type": "execute_result",
     "data": {
      "text/plain": [
       "{'health': 600, 'mana': 434, 'melee': 550}"
      ]
     },
     "metadata": {},
     "execution_count": 38
    }
   ],
   "source": [
    "del lux['armor']\n",
    "lux"
   ]
  },
  {
   "source": [
    "### - 딕셔너리의 키/밸류 값들을 가져오기"
   ],
   "cell_type": "markdown",
   "metadata": {}
  },
  {
   "cell_type": "code",
   "execution_count": 2,
   "metadata": {},
   "outputs": [
    {
     "output_type": "execute_result",
     "data": {
      "text/plain": [
       "dict_keys(['health', 'mana', 'melee', 'armor'])"
      ]
     },
     "metadata": {},
     "execution_count": 2
    }
   ],
   "source": [
    "lux2.keys()"
   ]
  },
  {
   "cell_type": "code",
   "execution_count": 3,
   "metadata": {},
   "outputs": [
    {
     "output_type": "execute_result",
     "data": {
      "text/plain": [
       "dict_values([490, 334, 550, 18.72])"
      ]
     },
     "metadata": {},
     "execution_count": 3
    }
   ],
   "source": [
    "lux2.values()\n"
   ]
  },
  {
   "source": [
    "### - 딕셔너리 반복문"
   ],
   "cell_type": "markdown",
   "metadata": {}
  },
  {
   "cell_type": "code",
   "execution_count": 41,
   "metadata": {},
   "outputs": [
    {
     "output_type": "execute_result",
     "data": {
      "text/plain": [
       "dict_items([('health', 600), ('mana', 434), ('melee', 550)])"
      ]
     },
     "metadata": {},
     "execution_count": 41
    }
   ],
   "source": [
    "lux.items()"
   ]
  },
  {
   "cell_type": "code",
   "execution_count": 44,
   "metadata": {},
   "outputs": [
    {
     "output_type": "stream",
     "name": "stdout",
     "text": [
      "health 600 600\nmana 434 434\nmelee 550 550\n"
     ]
    }
   ],
   "source": [
    "for key, value in lux.items():\n",
    "    print(key, value, lux[key])"
   ]
  },
  {
   "cell_type": "code",
   "execution_count": 45,
   "metadata": {},
   "outputs": [
    {
     "output_type": "stream",
     "name": "stdout",
     "text": [
      "health 600\nmana 434\nmelee 550\n"
     ]
    }
   ],
   "source": [
    "for key, value in lux.items():\n",
    "    print(key, value)"
   ]
  },
  {
   "cell_type": "code",
   "execution_count": 43,
   "metadata": {},
   "outputs": [
    {
     "output_type": "stream",
     "name": "stdout",
     "text": [
      "health 600\nmana 434\nmelee 550\n"
     ]
    }
   ],
   "source": [
    "for key in lux.keys():\n",
    "    print(key,lux[key])"
   ]
  },
  {
   "cell_type": "code",
   "execution_count": 47,
   "metadata": {},
   "outputs": [
    {
     "output_type": "stream",
     "name": "stdout",
     "text": [
      "6051.8\n"
     ]
    }
   ],
   "source": [
    "terrestrial_planet = {\n",
    "    'Mercury': {\n",
    "        'mean_radius': 2439.7,\n",
    "        'mass': 3.3022E+23,\n",
    "        'orbital_period': 87.969\n",
    "    },\n",
    "    'Venus': {\n",
    "        'mean_radius': 6051.8,\n",
    "        'mass': 4.8676E+24,\n",
    "        'orbital_period': 224.70069,\n",
    "    },\n",
    "    'Earth': {\n",
    "        'mean_radius': 6371.0,\n",
    "        'mass': 5.97219E+24,\n",
    "        'orbital_period': 365.25641,\n",
    "    },\n",
    "    'Mars': {\n",
    "        'mean_radius': 3389.5,\n",
    "        'mass': 6.4185E+23,\n",
    "        'orbital_period': 686.9600,\n",
    "    }\n",
    "}\n",
    " \n",
    "print(terrestrial_planet['Venus']['mean_radius'])    # 6051.8"
   ]
  },
  {
   "cell_type": "code",
   "execution_count": 48,
   "metadata": {},
   "outputs": [
    {
     "output_type": "execute_result",
     "data": {
      "text/plain": [
       "{'mean_radius': 6371.0, 'mass': 5.97219e+24, 'orbital_period': 365.25641}"
      ]
     },
     "metadata": {},
     "execution_count": 48
    }
   ],
   "source": [
    "terrestrial_planet['Earth']"
   ]
  },
  {
   "cell_type": "code",
   "execution_count": 49,
   "metadata": {},
   "outputs": [
    {
     "output_type": "execute_result",
     "data": {
      "text/plain": [
       "365.25641"
      ]
     },
     "metadata": {},
     "execution_count": 49
    }
   ],
   "source": [
    "terrestrial_planet['Earth']['orbital_period']"
   ]
  },
  {
   "source": [
    "## collections 모듈"
   ],
   "cell_type": "markdown",
   "metadata": {}
  },
  {
   "source": [
    "### - deque 모듈 (스택 및 큐)"
   ],
   "cell_type": "markdown",
   "metadata": {}
  },
  {
   "cell_type": "code",
   "execution_count": 4,
   "metadata": {},
   "outputs": [
    {
     "output_type": "execute_result",
     "data": {
      "text/plain": [
       "deque([0, 1, 2, 3, 4])"
      ]
     },
     "metadata": {},
     "execution_count": 4
    }
   ],
   "source": [
    "\n",
    "from collections import deque\n",
    "\n",
    "stack = deque()\n",
    "for i in range(5):\n",
    "    stack.append(i)\n",
    "stack"
   ]
  },
  {
   "cell_type": "code",
   "execution_count": 5,
   "metadata": {},
   "outputs": [
    {
     "output_type": "stream",
     "name": "stdout",
     "text": [
      "4\n3\n2\n1\n0\n"
     ]
    }
   ],
   "source": [
    "for _ in range(len(stack)):\n",
    "    print(stack.pop())"
   ]
  },
  {
   "cell_type": "code",
   "execution_count": 8,
   "metadata": {},
   "outputs": [
    {
     "output_type": "execute_result",
     "data": {
      "text/plain": [
       "deque([4, 3, 2, 1, 0])"
      ]
     },
     "metadata": {},
     "execution_count": 8
    }
   ],
   "source": [
    "\n",
    "queue = deque()\n",
    "for i in range(5):\n",
    "    queue.appendleft(i)\n",
    "queue"
   ]
  },
  {
   "cell_type": "code",
   "execution_count": 9,
   "metadata": {},
   "outputs": [
    {
     "output_type": "stream",
     "name": "stdout",
     "text": [
      "0\n1\n2\n3\n4\n"
     ]
    }
   ],
   "source": [
    "for _ in range(len(queue)):\n",
    "    print(queue.pop())"
   ]
  },
  {
   "cell_type": "code",
   "execution_count": 10,
   "metadata": {},
   "outputs": [
    {
     "output_type": "execute_result",
     "data": {
      "text/plain": [
       "deque([0, 1, 2, 3, 4])"
      ]
     },
     "metadata": {},
     "execution_count": 10
    }
   ],
   "source": [
    "circular = deque()\n",
    "for i in range(5):\n",
    "    circular.append(i)\n",
    "circular"
   ]
  },
  {
   "cell_type": "code",
   "execution_count": 11,
   "metadata": {},
   "outputs": [
    {
     "output_type": "execute_result",
     "data": {
      "text/plain": [
       "deque([4, 0, 1, 2, 3])"
      ]
     },
     "metadata": {},
     "execution_count": 11
    }
   ],
   "source": [
    "circular.rotate(1)\n",
    "circular"
   ]
  },
  {
   "source": [
    "- ordered Dict 모듈"
   ],
   "cell_type": "markdown",
   "metadata": {}
  },
  {
   "cell_type": "code",
   "execution_count": 59,
   "metadata": {},
   "outputs": [
    {
     "output_type": "stream",
     "name": "stdout",
     "text": [
      "x 100\nk 200\ny 300\n"
     ]
    }
   ],
   "source": [
    "from collections import OrderedDict\n",
    "\n",
    "d = OrderedDict()\n",
    "d['x'] = 100\n",
    "d['k'] = 200\n",
    "d['y'] = 300\n",
    "\n",
    "for k,v in d.items():\n",
    "    print(k,v)\n"
   ]
  },
  {
   "cell_type": "code",
   "execution_count": 61,
   "metadata": {},
   "outputs": [],
   "source": [
    "def sort_by_key(t):\n",
    "    return t[0]"
   ]
  },
  {
   "cell_type": "code",
   "execution_count": 62,
   "metadata": {},
   "outputs": [
    {
     "output_type": "stream",
     "name": "stdout",
     "text": [
      "k 200\nx 100\ny 300\n"
     ]
    }
   ],
   "source": [
    "for k,v in OrderedDict(sorted(d.items(), key = sort_by_key)).items():\n",
    "    print(k,v)"
   ]
  },
  {
   "cell_type": "code",
   "execution_count": 63,
   "metadata": {},
   "outputs": [
    {
     "output_type": "execute_result",
     "data": {
      "text/plain": [
       "Counter({'g': 1, 'a': 3, 'l': 2, 'h': 1, 'd': 1})"
      ]
     },
     "metadata": {},
     "execution_count": 63
    }
   ],
   "source": [
    "from collections import Counter\n",
    "\n",
    "text = list('gallahad')\n",
    "Counter(text)"
   ]
  },
  {
   "cell_type": "code",
   "execution_count": 64,
   "metadata": {},
   "outputs": [
    {
     "output_type": "execute_result",
     "data": {
      "text/plain": [
       "Counter({'A': 1,\n",
       "         'quick': 1,\n",
       "         'brown': 1,\n",
       "         'fox': 1,\n",
       "         'jumps': 1,\n",
       "         'over': 1,\n",
       "         'the': 1,\n",
       "         'lazy': 1,\n",
       "         'dog.': 1})"
      ]
     },
     "metadata": {},
     "execution_count": 64
    }
   ],
   "source": [
    "text  = 'A quick brown fox jumps over the lazy dog.'\n",
    "Counter(text.split())"
   ]
  },
  {
   "source": [
    "### 1. 시저암호\n",
    "시저 암호는, 고대 로마의 황제 줄리어스 시저가 만들어 낸 암호인데,\n",
    "예를 들어 알파벳 A를 입력했을 때, 그 알파벳의 n개 뒤에 오는 알파벳이 출력되는 것이다.\n",
    "예를 들어 바꾸려는 단어가 'CAT'이고, n을 5로 지정하였을 때 \"HFY\"가 되는 것이다.\n",
    "어떠한 암호를 만들 문장과 n을 입력했을 때 암호를 만들어 출력하는 프로그램을 작성하시오\n",
    "입력: 화면에서 문자열과 n값을 입력받는다. 예 ROSE 5\n",
    "출력: 암호화된 문자열을 출력\n",
    "\n",
    "\n",
    "\n"
   ],
   "cell_type": "markdown",
   "metadata": {}
  },
  {
   "source": [
    " ord (z) - ord (a) = 25\n",
    " 임의의 단어 ord (x) + 5는 \n",
    " ord x - ord a +n(=5) = x -a = 23 + 5 = 26을 넘어가니까 빼고 더함"
   ],
   "cell_type": "markdown",
   "metadata": {}
  },
  {
   "cell_type": "code",
   "execution_count": null,
   "metadata": {},
   "outputs": [],
   "source": [
    "encode pain text 평문\n",
    "       cipher text비문 \n",
    "평문 -> 비문 인코딩: 코드를 만든다. 의미있는 무언가를 만듦\n",
    "비문 -> 평문 디코딩 : 위의 인코딩을 해석하는것이 디코딩"
   ]
  },
  {
   "cell_type": "code",
   "execution_count": null,
   "metadata": {},
   "outputs": [],
   "source": [
    "암호화 평방향 : 패스워드, 로깅 \n",
    "       양방향"
   ]
  },
  {
   "cell_type": "code",
   "execution_count": null,
   "metadata": {},
   "outputs": [],
   "source": [
    "def encode(plain, n):\n",
    "    cipher = ''\n",
    "    for c in plain:\n",
    "        diff = ord(c) - ord('A') + n\n",
    "        if diff >= 26:\n",
    "            cipher += chr(ord('A') + diff % 26)\n",
    "        else:\n",
    "            cipher += chr(ord(c) + n)\n",
    "    return cipher"
   ]
  },
  {
   "cell_type": "code",
   "execution_count": null,
   "metadata": {},
   "outputs": [],
   "source": [
    "def decode(cipher, n):\n",
    "    plain = ''\n",
    "    for c in cipher:\n",
    "        diff = ord(c) - ord('A') - n\n",
    "        if diff < 0:\n",
    "            plain += chr(ord('Z') + diff + 1)\n",
    "        else:\n",
    "            plain += chr(ord(c) - n)\n",
    "    return plain"
   ]
  },
  {
   "cell_type": "code",
   "execution_count": null,
   "metadata": {},
   "outputs": [],
   "source": [
    "decode(encode('ROSE',3),3)"
   ]
  },
  {
   "cell_type": "code",
   "execution_count": null,
   "metadata": {},
   "outputs": [],
   "source": [
    "word, n = input('String N 입력').split()\n",
    "cipher = encode(word.upper(), int(n))\n",
    "plain = decode(cipher, int(n))\n",
    "print(f'입력값 {word}, {n} 에 대한 암호는 {cipher} 해독하면 {plain}')"
   ]
  },
  {
   "source": [
    "### 2. unit 24 심사문제 5 \n",
    "표준 입력으로 문자열이 입력됩니다. 입력된 문자열에서 'the'의 개수를 출력하는 프로그램을 만드세요(input에서 안내 문자열은 출력하지 않아야 합니다). 단, 모든 문자가 소문자인 'the'만 찾으면 되며 'them', 'there', 'their' 등은 포함하지 않아야 합니다."
   ],
   "cell_type": "markdown",
   "metadata": {}
  },
  {
   "cell_type": "code",
   "execution_count": 2,
   "metadata": {},
   "outputs": [],
   "source": [
    "text= \"\"\"\n",
    "the grown-ups' response, this time, was to advise me to lay aside my drawings of boa constrictors, whether from the inside or the outside, and devote myself instead to geography, history, arithmetic, and grammar. That is why, at the, age of six, I gave up what might have been a magnificent career as a painter. I had been disheartened by the failure of my Drawing Number One and my Drawing Number Two. Grown-ups never understand anything by themselves, and it is tiresome for children to be always and forever explaining things to the.\n",
    "\"\"\""
   ]
  },
  {
   "cell_type": "code",
   "execution_count": 3,
   "metadata": {},
   "outputs": [
    {
     "output_type": "execute_result",
     "data": {
      "text/plain": [
       "8"
      ]
     },
     "metadata": {},
     "execution_count": 3
    }
   ],
   "source": [
    "text.count('the')"
   ]
  },
  {
   "cell_type": "code",
   "execution_count": 5,
   "metadata": {},
   "outputs": [
    {
     "output_type": "execute_result",
     "data": {
      "text/plain": [
       "'the grown-ups response this time was to advise me to lay aside my drawings of boa constrictors whether from the inside or the outside and devote myself instead to geography history arithmetic and grammar That is why at the age of six I gave up what might have been a magnificent career as a painter I had been disheartened by the failure of my Drawing Number One and my Drawing Number Two Grown-ups never understand anything by themselves and it is tiresome for children to be always and forever explaining things to the'"
      ]
     },
     "metadata": {},
     "execution_count": 5
    }
   ],
   "source": [
    "import re #regular expression 정규표현식을 다루는 모듈\n",
    "text = re.sub('[\\'.,\\n]','',text) #re.sub 바꾸기. (찾을 문자들)를, ''(없애기)를 바꿔라 , text에서 \n",
    "text\n",
    "\n",
    "# 정규표현식 [ ]안의 단어들을 찾는것 '[ ] '\n",
    "#  A-Z a-z 0-9 영문자 대소문 숫자 찾아라\n",
    "#  ㄱ-ㅎ     ㅏ-ㅣ   가-힣  [ㄱ-ㅎㅏ-ㅣ가-힣]\n",
    "# '       '  ,  .  \\n             '를 없애고 싶을 때 \n",
    "# '[ \\' ,.\\n   ]'"
   ]
  },
  {
   "cell_type": "code",
   "execution_count": null,
   "metadata": {},
   "outputs": [],
   "source": [
    "text = re.sub('[^A-Za-z ]','', text) #알파벳,스페이스만 남기고 다 죽여라 # ^아닌놈들"
   ]
  },
  {
   "cell_type": "code",
   "execution_count": 6,
   "metadata": {},
   "outputs": [
    {
     "output_type": "execute_result",
     "data": {
      "text/plain": [
       "'!\"#$%&\\'()*+,-./:;<=>?@[\\\\]^_`{|}~'"
      ]
     },
     "metadata": {},
     "execution_count": 6
    }
   ],
   "source": [
    "from string import punctuation\n",
    "punctuation"
   ]
  },
  {
   "cell_type": "code",
   "execution_count": null,
   "metadata": {},
   "outputs": [],
   "source": [
    "# word가 the인거를 찾아서 하나씩 증가시킴\n",
    "# 스플릿하면 리스트가 만들어지고 그 다음에 그 리스트에서 하나씩 뽑아서 단어가 뭐인지 물어서 맞으면 카운트 하나씩 증가\n",
    "\n",
    "text_list = text.lower().strip().split()\n",
    "count = 0\n",
    "for word in text_list:\n",
    "    if word == 'the':\n",
    "        count += 1\n",
    "count"
   ]
  },
  {
   "cell_type": "code",
   "execution_count": 167,
   "metadata": {},
   "outputs": [],
   "source": [
    "def get_count(word):\n",
    "    if len(word('the')) < 4 :\n",
    "        return word.count('the')"
   ]
  },
  {
   "cell_type": "code",
   "execution_count": 121,
   "metadata": {},
   "outputs": [],
   "source": [
    "# 결과: 6\n",
    "def get_count(word):\n",
    "    if len(word.count('the')) < 4   :\n",
    "        print(word.count('the'))"
   ]
  },
  {
   "source": [
    "### 3. unit 24 심사문제 6\n",
    "표준 입력으로 물품 가격 여러 개가 문자열 한 줄로 입력되고, 각 가격은 ;(세미콜론)으로 구분되어 있습니다. 입력된 가격을 높은 가격순으로 출력하는 프로그램을 만드세요(input에서 안내 문자열은 출력하지 않아야 합니다). 이때 가격은 길이를 9로 만든 뒤 오른쪽으로 정렬하고 천단위로 ,(콤마)를 넣으세요.\n"
   ],
   "cell_type": "markdown",
   "metadata": {}
  },
  {
   "cell_type": "code",
   "execution_count": 215,
   "metadata": {},
   "outputs": [
    {
     "output_type": "stream",
     "name": "stdout",
     "text": [
      "51900;83000;158000;367500;250000;59200;128500;1304000\n"
     ]
    }
   ],
   "source": [
    "price = '51900;83000;158000;367500;250000;59200;128500;1304000'\n",
    "print(price)"
   ]
  },
  {
   "cell_type": "code",
   "execution_count": 222,
   "metadata": {},
   "outputs": [
    {
     "output_type": "stream",
     "name": "stdout",
     "text": [
      "['51900', '83000', '158000', '367500', '250000', '59200', '128500', '1304000']\n"
     ]
    }
   ],
   "source": [
    "price_tab = price.split(';')\n",
    "print(price_tab)"
   ]
  },
  {
   "cell_type": "code",
   "execution_count": 231,
   "metadata": {},
   "outputs": [
    {
     "output_type": "stream",
     "name": "stdout",
     "text": [
      "[51900, 83000, 158000, 367500, 250000, 59200, 128500, 1304000]\n"
     ]
    }
   ],
   "source": [
    "# 리스트를 문자열을 정수로 변환\n",
    "price_int = list(map(int,price_tab))\n",
    "print(price_int)"
   ]
  },
  {
   "cell_type": "code",
   "execution_count": 234,
   "metadata": {},
   "outputs": [
    {
     "output_type": "stream",
     "name": "stdout",
     "text": [
      "None\n"
     ]
    }
   ],
   "source": [
    " print(price_int.sort(reverse=True))\n"
   ]
  },
  {
   "cell_type": "code",
   "execution_count": 233,
   "metadata": {},
   "outputs": [
    {
     "output_type": "error",
     "ename": "TypeError",
     "evalue": "unsupported format string passed to list.__format__",
     "traceback": [
      "\u001b[1;31m---------------------------------------------------------------------------\u001b[0m",
      "\u001b[1;31mTypeError\u001b[0m                                 Traceback (most recent call last)",
      "\u001b[1;32m<ipython-input-233-5fa737f3b1b3>\u001b[0m in \u001b[0;36m<module>\u001b[1;34m\u001b[0m\n\u001b[1;32m----> 1\u001b[1;33m \u001b[0mprice_1000\u001b[0m \u001b[1;33m=\u001b[0m \u001b[0mprint\u001b[0m\u001b[1;33m(\u001b[0m\u001b[1;34mf'{price_int:,}'\u001b[0m\u001b[1;33m)\u001b[0m\u001b[1;33m\u001b[0m\u001b[1;33m\u001b[0m\u001b[0m\n\u001b[0m\u001b[0;32m      2\u001b[0m \u001b[0mprice_1000\u001b[0m\u001b[1;33m\u001b[0m\u001b[1;33m\u001b[0m\u001b[0m\n",
      "\u001b[1;31mTypeError\u001b[0m: unsupported format string passed to list.__format__"
     ]
    }
   ],
   "source": [
    "price_1000 = print(f'{price_int:,}')\n",
    "price_1000"
   ]
  },
  {
   "cell_type": "code",
   "execution_count": null,
   "metadata": {},
   "outputs": [],
   "source": [
    "#정답"
   ]
  },
  {
   "cell_type": "code",
   "execution_count": null,
   "metadata": {},
   "outputs": [],
   "source": [
    "input_str = '51900;83000;158000;367500;250000;59200;128500;1304000'\n",
    "price_list = list(map(int, input_str.split(';')))\n",
    "price_list"
   ]
  },
  {
   "cell_type": "code",
   "execution_count": null,
   "metadata": {},
   "outputs": [],
   "source": [
    "price_list.sort(reverse=True)\n",
    "price_list"
   ]
  },
  {
   "cell_type": "code",
   "execution_count": null,
   "metadata": {},
   "outputs": [],
   "source": [
    "for price in price_list:\n",
    "    print(f'{price:9,d}')"
   ]
  },
  {
   "cell_type": "code",
   "execution_count": null,
   "metadata": {},
   "outputs": [],
   "source": [
    "price = '51900;83000;158000;367500;250000;59200;128500;1304000'\n",
    "\n",
    "int 함수를 이용해서 묶어서 list로 묶음 \n",
    "list(map(int,input_str.split(';')))\n",
    "\n",
    "sort reverse로 내림차순\n",
    "\n",
    "for price in price_list:\n",
    "\n",
    "    {price:9,d} 를 쓰면 세로로 프린트 됨! 퍼센트 9,d라는 이야기. 어떤 정수를 천단위로 구분지어서 쓸 수 있음"
   ]
  },
  {
   "source": [
    "### 4. unit 12 심사문제\n",
    "\n",
    "\n"
   ],
   "cell_type": "markdown",
   "metadata": {}
  },
  {
   "cell_type": "code",
   "execution_count": null,
   "metadata": {},
   "outputs": [],
   "source": [
    "keys = input().split()\n",
    "values = map(float, input().split())\n",
    "lux = dict(zip(keys, values))\n",
    "lux"
   ]
  },
  {
   "source": [
    "### 5. unit 25 심사문제\n",
    "표준 입력으로 문자열 여러 개와 숫자(실수) 여러 개가 두 줄로 입력됩니다. 입력된 첫 번째 줄은 키, 두 번째 줄은 값으로 하여 딕셔너리를 생성한 뒤 딕셔너리를 출력하는 프로그램을 만드세요. input().split()의 결과를 변수 한 개에 저장하면 리스트로 저장됩니다."
   ],
   "cell_type": "markdown",
   "metadata": {}
  },
  {
   "cell_type": "code",
   "execution_count": null,
   "metadata": {},
   "outputs": [],
   "source": [
    "keys = input().split()\n",
    "values = map(int, input().split())\n",
    "x = dict(zip(keys, values))\n",
    "x"
   ]
  },
  {
   "cell_type": "code",
   "execution_count": null,
   "metadata": {},
   "outputs": [],
   "source": [
    "del x['delta'] # 델타지우기\n",
    "x\n"
   ]
  },
  {
   "cell_type": "code",
   "execution_count": null,
   "metadata": {},
   "outputs": [],
   "source": [
    "for key, value in x.items():\n",
    "    if value == 30:\n",
    "        break\n",
    "del x[key]\n",
    "x"
   ]
  },
  {
   "cell_type": "code",
   "execution_count": null,
   "metadata": {},
   "outputs": [],
   "source": [
    "# 밸류가 30인걸 지우기. for문안에서 어떤 글자를 지우면 x가 에러가 남. x.items으로 for문 돌리는데 없어서. for문 안에서는 가급적이면 key값을 지우지 않는게 좋음.\n",
    "\n",
    "for key, value in x.items():\n",
    "    if value == 30:\n",
    "        break\n",
    "del x[key]\n",
    "x"
   ]
  }
 ]
}