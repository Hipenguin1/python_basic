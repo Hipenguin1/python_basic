{
 "metadata": {
  "language_info": {
   "codemirror_mode": {
    "name": "ipython",
    "version": 3
   },
   "file_extension": ".py",
   "mimetype": "text/x-python",
   "name": "python",
   "nbconvert_exporter": "python",
   "pygments_lexer": "ipython3",
   "version": "3.8.5"
  },
  "orig_nbformat": 2,
  "kernelspec": {
   "name": "python385jvsc74a57bd08c1eae21719a0790335dcb83aad72b63b602cfe5cdb2bda0f60bc11d4f154e4b",
   "display_name": "Python 3.8.5 64-bit ('base': conda)"
  }
 },
 "nbformat": 4,
 "nbformat_minor": 2,
 "cells": [
  {
   "source": [
    "# 반복문 "
   ],
   "cell_type": "markdown",
   "metadata": {}
  },
  {
   "source": [
    "### sequence \n",
    "### for 변수 in sequence :\n",
    "\n",
    "#### 1. list\n",
    "#### 2. range \n",
    "#### 3. string\n",
    "#### 4. tuple\n",
    "\n"
   ],
   "cell_type": "markdown",
   "metadata": {}
  },
  {
   "source": [
    "### -for \n",
    "### 반복 범위를 지정하여 반복을 수행 "
   ],
   "cell_type": "markdown",
   "metadata": {}
  },
  {
   "cell_type": "code",
   "execution_count": 1,
   "metadata": {},
   "outputs": [
    {
     "output_type": "stream",
     "name": "stdout",
     "text": [
      "Hello World\nHello World\nHello World\nHello World\nHello World\n"
     ]
    }
   ],
   "source": [
    "for i in range(5):\n",
    "    print('Hello World')"
   ]
  },
  {
   "cell_type": "code",
   "execution_count": 2,
   "metadata": {},
   "outputs": [
    {
     "output_type": "stream",
     "name": "stdout",
     "text": [
      "0\n1\n2\n3\n4\n"
     ]
    }
   ],
   "source": [
    "for i in range(5):\n",
    "    print(i)"
   ]
  },
  {
   "cell_type": "code",
   "execution_count": 4,
   "metadata": {},
   "outputs": [
    {
     "output_type": "stream",
     "name": "stdout",
     "text": [
      "1\n2\n3\n4\n5\n"
     ]
    }
   ],
   "source": [
    "# range(시작숫자, 끝 숫자 + 증가분, 증가분 )\n",
    "# 1에서 5까지 출력\n",
    "for i in range(1,6):\n",
    "    print(i)"
   ]
  },
  {
   "cell_type": "code",
   "execution_count": 5,
   "metadata": {},
   "outputs": [
    {
     "output_type": "stream",
     "name": "stdout",
     "text": [
      "1\n3\n5\n7\n9\n"
     ]
    }
   ],
   "source": [
    "# 리스트\n",
    "for i in [1,3,5,7,9]:\n",
    "    print(i)"
   ]
  },
  {
   "cell_type": "code",
   "execution_count": null,
   "metadata": {},
   "outputs": [],
   "source": [
    "# 튜플\n",
    "for i in (1,3,5,7,9):\n",
    "    print(i)"
   ]
  },
  {
   "cell_type": "code",
   "execution_count": 6,
   "metadata": {},
   "outputs": [
    {
     "output_type": "stream",
     "name": "stdout",
     "text": [
      "H\ne\nl\nl\no\n \n"
     ]
    }
   ],
   "source": [
    "# 문자열\n",
    "for char in \"Hello \":\n",
    "    print(char)"
   ]
  },
  {
   "cell_type": "code",
   "execution_count": 7,
   "metadata": {},
   "outputs": [
    {
     "output_type": "stream",
     "name": "stdout",
     "text": [
      "I\nlove\nyou\n"
     ]
    }
   ],
   "source": [
    "# 리스트 결과가 나오는 구문\n",
    "for s in 'I love you'.split():\n",
    "    print(s)"
   ]
  },
  {
   "source": [
    "### while : 조건이 참일 동안 실행.\n",
    "\n",
    "\n",
    "####    while 조건:\n",
    "####          - 조건이 변화되도록\n",
    "####          - loop을 탈출할 수 있는 조건    \n",
    "\n",
    "\n",
    "#### break를 하면 for와 while문을 벗어남 \n",
    "#### 내가 속해있는 loop만 벗어남"
   ],
   "cell_type": "markdown",
   "metadata": {}
  },
  {
   "cell_type": "code",
   "execution_count": 9,
   "metadata": {},
   "outputs": [
    {
     "output_type": "stream",
     "name": "stdout",
     "text": [
      "1\n2\n3\n4\n5\n"
     ]
    }
   ],
   "source": [
    "#for i in range(1,6):\n",
    "#      print(i)\n",
    "\n",
    "# 시작하는 조건이 없어서 앞에서 먼저 설정하고 들어감\n",
    "i = 1\n",
    "while i < 6:\n",
    "    print(i)\n",
    "    i += 1"
   ]
  },
  {
   "cell_type": "code",
   "execution_count": null,
   "metadata": {},
   "outputs": [],
   "source": []
  }
 ]
}