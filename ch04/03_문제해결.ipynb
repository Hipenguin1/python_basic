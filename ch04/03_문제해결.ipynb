{
 "metadata": {
  "language_info": {
   "codemirror_mode": {
    "name": "ipython",
    "version": 3
   },
   "file_extension": ".py",
   "mimetype": "text/x-python",
   "name": "python",
   "nbconvert_exporter": "python",
   "pygments_lexer": "ipython3",
   "version": "3.8.5"
  },
  "orig_nbformat": 2,
  "kernelspec": {
   "name": "python385jvsc74a57bd08c1eae21719a0790335dcb83aad72b63b602cfe5cdb2bda0f60bc11d4f154e4b",
   "display_name": "Python 3.8.5 64-bit ('base': conda)"
  }
 },
 "nbformat": 4,
 "nbformat_minor": 2,
 "cells": [
  {
   "source": [
    "### 1. 구구단 계산기"
   ],
   "cell_type": "markdown",
   "metadata": {}
  },
  {
   "cell_type": "code",
   "execution_count": 1,
   "metadata": {},
   "outputs": [
    {
     "output_type": "stream",
     "name": "stdout",
     "text": [
      "6 x 1 = 6\n6 x 2 = 12\n6 x 3 = 18\n6 x 4 = 24\n6 x 5 = 30\n6 x 6 = 36\n6 x 7 = 42\n6 x 8 = 48\n6 x 9 = 54\n"
     ]
    }
   ],
   "source": [
    "# 구구단 6단 \n",
    "n = 6\n",
    "for i in range(1,10):\n",
    "    print(f'{n} x {i} = {n*i}' )"
   ]
  },
  {
   "source": [
    "### 2. 문자열 역순 출력"
   ],
   "cell_type": "markdown",
   "metadata": {}
  },
  {
   "cell_type": "code",
   "execution_count": 6,
   "metadata": {},
   "outputs": [
    {
     "output_type": "stream",
     "name": "stdout",
     "text": [
      "hello world - dlrow olleh\n"
     ]
    }
   ],
   "source": [
    "sentence = input()\n",
    "reverse_sentence = ''\n",
    "for char in sentence: \n",
    "    reverse_sentence = char + reverse_sentence\n",
    "print(sentence, '-', reverse_sentence)"
   ]
  },
  {
   "source": [
    "### 십진수를 이진수로 변환"
   ],
   "cell_type": "markdown",
   "metadata": {}
  },
  {
   "cell_type": "code",
   "execution_count": 42,
   "metadata": {},
   "outputs": [],
   "source": [
    "# 1. while loop\n",
    "# 2. num\n",
    "\n",
    "#while num > 0\n",
    "#rem = n%2\n",
    "#quo= n//2\n",
    "#ans=str(rem) + ans"
   ]
  },
  {
   "cell_type": "code",
   "execution_count": 10,
   "metadata": {},
   "outputs": [
    {
     "output_type": "stream",
     "name": "stdout",
     "text": [
      "10100\n"
     ]
    }
   ],
   "source": [
    "num = 20         #십진수 값\n",
    "answer = ''      #이진수 값을 저장할 NULL string\n",
    "while num > 0: \n",
    "    remainder = num % 2     #나머지\n",
    "    num = num // 2          #몫\n",
    "    answer = str(remainder) + answer\n",
    "print(answer)"
   ]
  },
  {
   "source": [
    "### 4. 숫자 찾기 게임\n"
   ],
   "cell_type": "markdown",
   "metadata": {}
  },
  {
   "cell_type": "code",
   "execution_count": 13,
   "metadata": {},
   "outputs": [],
   "source": [
    "import random\n",
    "random_number = random.randint(1,100)\n"
   ]
  },
  {
   "cell_type": "code",
   "execution_count": 16,
   "metadata": {},
   "outputs": [
    {
     "output_type": "stream",
     "name": "stdout",
     "text": [
      "숫자가 작습니다\n",
      "숫자가 작습니다\n",
      "숫자가 큽니다\n",
      "숫자가 큽니다\n",
      "Bingo. 정답은 83 !!!\n"
     ]
    }
   ],
   "source": [
    "while True:\n",
    "    guess =int(input('1~100 사이의 정수를 찾아보세요.'))\n",
    "    if guess == random_number:\n",
    "        print(f'Bingo. 정답은 {guess} !!!')\n",
    "        break\n",
    "    if guess > random_number:\n",
    "        print(f'입력한 숫자 {guess}은/는 숫자가 큽니다')\n",
    "    else:\n",
    "        printf'입력한 숫자 {guess}은/는 숫자가 작습니다')"
   ]
  },
  {
   "source": [
    "### 5-1 별표 그리기기"
   ],
   "cell_type": "markdown",
   "metadata": {}
  },
  {
   "cell_type": "code",
   "execution_count": 18,
   "metadata": {},
   "outputs": [
    {
     "output_type": "stream",
     "name": "stdout",
     "text": [
      "+\n++\n+++\n++++\n+++++\n"
     ]
    }
   ],
   "source": [
    "for i in range(1,6):\n",
    "    for k in range(i):\n",
    "        print('+', sep='', end = '')\n",
    "    print()"
   ]
  },
  {
   "cell_type": "code",
   "execution_count": 20,
   "metadata": {},
   "outputs": [
    {
     "output_type": "stream",
     "name": "stdout",
     "text": [
      "+++++\n ++++\n  +++\n   ++\n    +\n"
     ]
    }
   ],
   "source": [
    "for i in range(1,6):\n",
    "    for k in range(1,i):   #blank 출력\n",
    "        print(' ', sep='', end='')\n",
    "    for k in range(5-i+1):  # 별 출력\n",
    "        print('+', sep='', end='')\n",
    "    print()"
   ]
  },
  {
   "source": [
    "# 파이썬 문제"
   ],
   "cell_type": "markdown",
   "metadata": {}
  },
  {
   "source": [
    "### 1\n",
    "### 연도를 입력으로 받아 윤년인지 아닌지를 출력하는 프로그램을 작성하시오.윤년은 연도가 4의 배수이면서, 100의 배수가 아닐 때 또는 400의 배수일 때이다.예를들어, 2012년은 4의 배수라서 윤년이지만, 1900년은 4의 배수이지만, 100의 배수이기 때문에 윤년이 아니다. 하지만, 2000년은 400의 배수이기 때문에 윤년이다.)\n"
   ],
   "cell_type": "markdown",
   "metadata": {}
  },
  {
   "cell_type": "code",
   "execution_count": 34,
   "metadata": {},
   "outputs": [
    {
     "output_type": "stream",
     "name": "stdout",
     "text": [
      "윤년입니다.\n"
     ]
    }
   ],
   "source": [
    "i = int(input(\"연도를 입력하세요\"))\n",
    "if  (i % 4 == 0 and i% 100 != 0) or i % 400 == 0:\n",
    "    print(f'{year}is leap year.')\n",
    "else:\n",
    "    print(f'{year}is not leap year.')"
   ]
  },
  {
   "cell_type": "code",
   "execution_count": null,
   "metadata": {},
   "outputs": [],
   "source": [
    "#범위가 작은 것 부터 400 100 4의 배수 순서대로 입력 \n",
    "i = int(input(\"연도를 입력하세요\"))\n",
    "\n",
    "if year % 400 == 0\"\n",
    "    print(f'{year}is leap year.')\n",
    "elif year % 400 == 0\"\n",
    "    print(f'{year}is not leap year.')\n",
    "elif year % 400 == 0\"\n",
    "    print(f'{year}is leap year.')\n",
    "else:\n",
    "    print(f'{year}is not leap year.')"
   ]
  },
  {
   "source": [
    "### 2\n",
    "### 본인의 생일을 1998 12 15 과 같이 년 월 일로 입력받아 오늘 날짜의 만 나이를 구하는 프로그램을 작성하시오.\n"
   ],
   "cell_type": "markdown",
   "metadata": {}
  },
  {
   "cell_type": "code",
   "execution_count": null,
   "metadata": {},
   "outputs": [],
   "source": [
    "from datetime import date\n",
    "date= date.today()\n",
    "\n",
    "birth = input('태어난 년 월 일을 입력하세요.').split(' ')\n",
    "print(date.year - int(birth[0]))\n"
   ]
  },
  {
   "cell_type": "code",
   "execution_count": null,
   "metadata": {},
   "outputs": [],
   "source": [
    "from datetime import date\n",
    "\n",
    "date = date.today()\n",
    "\n",
    "today_str = str(date.today())\n",
    "today_split =today_str.split('-')\n",
    "today_int= today_split[0] +today_split[1]+today_split[2]\n",
    "today = int(today_int)\n",
    "\n",
    "birth = int(input('태어난 년 월 일을 입력하세요.'))\n",
    "age = today - birth\n",
    "print(age)"
   ]
  },
  {
   "cell_type": "code",
   "execution_count": 7,
   "metadata": {},
   "outputs": [],
   "source": [
    "from datetime import date\n",
    "today= date.today()"
   ]
  },
  {
   "cell_type": "code",
   "execution_count": 8,
   "metadata": {},
   "outputs": [
    {
     "output_type": "execute_result",
     "data": {
      "text/plain": [
       "(2000, 5, 26)"
      ]
     },
     "metadata": {},
     "execution_count": 8
    }
   ],
   "source": [
    "year, month, day = map(int, input('생일 입력').split())\n",
    "year, month, day "
   ]
  },
  {
   "cell_type": "code",
   "execution_count": 9,
   "metadata": {},
   "outputs": [
    {
     "output_type": "stream",
     "name": "stdout",
     "text": [
      "만 나이는 20 입니다.\n"
     ]
    }
   ],
   "source": [
    "if month > today.month:\n",
    "    age = today.year - year - 1\n",
    "elif month < today.month:\n",
    "    age = today.year - year\n",
    "else:\n",
    "    if day > today.day:\n",
    "        age = today.year - year - 1\n",
    "    else:\n",
    "        age = today.year - year\n",
    "print(f'만 나이는 {age} 입니다.')"
   ]
  },
  {
   "source": [
    "### 3\n",
    "### 세 자연수 a, b, c 가 피타고라스 정리 a2 + b2 = c2 를 만족하면 피타고라스 수라고 부른다. (여기서 a < b < c 이고 a + b > c) 예를 들면, 32 + 42 = 9 + 16 = 25 = 52 이므로 3, 4, 5는 피타고라스 수입니다.\n",
    "### a + b + c = 1000 인 피타고라스 수를 구하시오. (답은 한가지 뿐이다.)"
   ],
   "cell_type": "markdown",
   "metadata": {}
  },
  {
   "cell_type": "code",
   "execution_count": null,
   "metadata": {},
   "outputs": [],
   "source": [
    "for a in range(1,333):\n",
    "    for b in range(a+1, 500):\n",
    "        for c in range(b+1,1000):\n",
    "            if (a**2 + b**2) == c**2 and a + b + c == 1000:\n",
    "                print(a,b,c)"
   ]
  },
  {
   "cell_type": "code",
   "execution_count": 85,
   "metadata": {},
   "outputs": [
    {
     "output_type": "stream",
     "name": "stdout",
     "text": [
      "200 375 425\n"
     ]
    }
   ],
   "source": [
    "for a in range(1,1000):\n",
    "    for b in range(a+1, 1000-a):\n",
    "        c = 1000 - a - b\n",
    "        if (a**2 +b**2) == c**2:\n",
    "            print(a,b,c)\n"
   ]
  },
  {
   "cell_type": "code",
   "execution_count": 87,
   "metadata": {},
   "outputs": [
    {
     "output_type": "stream",
     "name": "stdout",
     "text": [
      "200 375 425\n"
     ]
    }
   ],
   "source": [
    "for a in range(1,333):\n",
    "    for b in range(a+1, 500):\n",
    "        c = 1000 - a - b\n",
    "        if c > (b+a):\n",
    "            continue\n",
    "        if a**2 + b**2 == c**2:\n",
    "            print(f'{a},{b},{c})\n",
    "            break"
   ]
  },
  {
   "source": [
    "### 4\n",
    "### (별 그리기)\n",
    "5이상 9이하의 홀수를 입력받아 다이아몬드 형태의 별을 출력하는 프로그램을 작성하시오.\n",
    "예) N=7\t\t \n"
   ],
   "cell_type": "markdown",
   "metadata": {}
  },
  {
   "cell_type": "code",
   "execution_count": 77,
   "metadata": {},
   "outputs": [
    {
     "output_type": "stream",
     "name": "stdout",
     "text": [
      "   *   \n  ***  \n ***** \n*******\n ***** \n  ***  \n   *   \n"
     ]
    }
   ],
   "source": [
    "# for문으로 짜기 \n",
    "star = int(input('별 개수를 입력하시오.  '))\n",
    "i = 1 \n",
    "if star % 2 == 1 else 2  #star가 홀수star = int(input('별 개수를 입력하시오.  '))\n",
    "i = 1 \n",
    "if star % 2 == 1 else 2  #star가 홀수\n",
    "\n",
    "for i in range(i, star+1, 2):\n",
    "    print('{0}{1}{0}'.format(' '*((star-i)//2), '*'*i))\n",
    "    for i in range(i-2, 0, -2):\n",
    "        print('{0}{1}{0}'.format(' '*((star-i)//2), '*'*i))\n",
    "\n",
    "for i in range(i, star+1, 2):\n",
    "    print('{0}{1}{0}'.format(' '*((star-i)//2), '*'*i))\n",
    "for i in range(i-2, 0, -2):\n",
    "    print('{0}{1}{0}'.format(' '*((star-i)//2), '*'*i))"
   ]
  },
  {
   "cell_type": "code",
   "execution_count": 81,
   "metadata": {},
   "outputs": [
    {
     "output_type": "stream",
     "name": "stdout",
     "text": [
      "    *    \n   ***   \n  *****  \n ******* \n  *****  \n   ***   \n    *    \n"
     ]
    }
   ],
   "source": [
    "# for문으로 짜기\n",
    "star = int(input('별 최대 개수 : '))\n",
    "\n",
    "if star % 2 == 1:     #별 최대개수가 홀수면 i에 1을\n",
    "    i = 1             \n",
    "else :                #별 최대개수가 짝수면 i에 2를 넣음\n",
    "    i = 2\n",
    "\n",
    "for i in range(i, star+1, 2):       #\n",
    "    blank = ' '*((star-i)//2)\n",
    "    dimond = '*'*i # 여기에 * 대신 다양한 기호 사용 가능!\n",
    "    \n",
    "    print(blank, dimond,blank)\n",
    "\n",
    "for i in range(i-2, 0, -2):\n",
    "    blank = ' '*((star-i)//2)\n",
    "    diamond = '*'*i\n",
    "    \n",
    "    print(blank, diamond,blank)"
   ]
  },
  {
   "cell_type": "code",
   "execution_count": null,
   "metadata": {},
   "outputs": [],
   "source": [
    "import math\n",
    "N = int(input('홀수 입력'))\n",
    "half = math.ceil(N/2)\n",
    "for i in range(1, half+1):\n",
    "    for k in range(half-i):\n",
    "        print(' ', sep='', end='')\n",
    "    for k in range(2*i-1):\n",
    "        print('+', sep='', end='')\n",
    "    print()\n",
    "for i in range(1, half):\n",
    "    for k in range(i):\n",
    "        print(' ', sep='', end='')\n",
    "    for k in range(2*(half-i)-1):\n",
    "        print('+', sep='', end='')\n",
    "    print()"
   ]
  },
  {
   "source": [
    "### 5\n",
    "### 디지털 시계에 하루동안(00:00~23:59) 3이 표시되는 시간을 초로 환산하면 총 몇 초(second) 일까요?- 디지털 시계는 하루동안 다음과 같이 시:분(00:00~23:59)으로 표시됨.\\\n",
    "### 00:00 (60초간 표시) \n",
    "### 00:01 \n",
    "### 23:59\n"
   ],
   "cell_type": "markdown",
   "metadata": {}
  },
  {
   "cell_type": "code",
   "execution_count": 92,
   "metadata": {},
   "outputs": [
    {
     "output_type": "stream",
     "name": "stdout",
     "text": [
      "29700\n"
     ]
    }
   ],
   "source": [
    "sumSec=0    # 초의 총합을 저장할 변수\n",
    "for hour in range(24) :     # 시간\n",
    "    for minute in range(60) :   #분\n",
    "        if '3' in str(hour) or '3' in str(minute) : # 시간이나 분에 3이 들어가면\n",
    "            sumSec += 60            # 60초씩 더함\n",
    "print(sumSec)"
   ]
  },
  {
   "source": [
    "### 6\n",
    "### 1~1000에서 각 숫자의 개수를 구하시오.\u000b- 예로 10 ~ 15 까지의 각 숫자의 개수를 구해보자.\u000b\t\t10 = 1, 0\u000b\t\t11 = 1, 1\u000b\t\t12 = 1, 2\u000b\t\t13 = 1, 3\u000b\t\t14 = 1, 4\u000b\t\t15 = 1, 5\u000b\u000b그러므로 이 경우의 답은 0:1개, 1:7개, 2:1개, 3:1개, 4:1개, 5:1개\n"
   ],
   "cell_type": "markdown",
   "metadata": {}
  },
  {
   "cell_type": "code",
   "execution_count": null,
   "metadata": {},
   "outputs": [],
   "source": [
    "num_counts = [0,0,0,0,0,0,0,0,0,0]\n",
    "for i in range(1, 10):\n",
    "    num_counts[i] += 1\n",
    "for i in range(10, 100):\n",
    "    ten = i // 10\n",
    "    one = i % 10\n",
    "    num_counts[ten] += 1\n",
    "    num_counts[one] += 1\n",
    "for i in range(100, 1000):\n",
    "    hundred = i // 100\n",
    "    ten = (i // 10) % 10\n",
    "    one = i % 10\n",
    "    num_counts[hundred] += 1\n",
    "    num_counts[ten] += 1\n",
    "    num_counts[one] += 1\n",
    "num_counts[1] += 1\n",
    "num_counts[0] += 3\n",
    "print(num_counts)"
   ]
  },
  {
   "cell_type": "code",
   "execution_count": null,
   "metadata": {},
   "outputs": [],
   "source": [
    "num_counts = [0,0,0,0,0,0,0,0,0,0]\n",
    "numbers = ''\n",
    "for i in range(1, 1001):\n",
    "    numbers += str(i)"
   ]
  },
  {
   "cell_type": "code",
   "execution_count": null,
   "metadata": {},
   "outputs": [],
   "source": [
    "numbers.count('0')"
   ]
  },
  {
   "cell_type": "code",
   "execution_count": null,
   "metadata": {},
   "outputs": [],
   "source": [
    "for i in range(10):\n",
    "    num_counts[i] = numbers.count(str(i))\n",
    "print(num_counts)"
   ]
  },
  {
   "source": [
    "### 7\n",
    "### 자기 자신을 제외한 모든 양의 약수들의 합이 자기 자신이 되는 자연수를 완전수라고 한다.\u000b예를 들면, 6과 28은 완전수이다.\u000b\t\t6=1+2+3         # 1,2,3은 각각 6의 약수 \u000b\t\t28=1+2+4+7+14   # 1,2,4,7,14는 각각 28의 약수.\u000b\u000b입력으로 자연수 N을 받고, 출력으로 N 이하의 모든 완전수를 출력하는 코드를 작성하시오.\n"
   ],
   "cell_type": "markdown",
   "metadata": {}
  },
  {
   "cell_type": "code",
   "execution_count": 90,
   "metadata": {},
   "outputs": [
    {
     "output_type": "stream",
     "name": "stdout",
     "text": [
      "1 2 3 6 \n"
     ]
    }
   ],
   "source": [
    "# 완전수의 약수 구하기 \n",
    "num = int(input(\"자연수를 입력하시오. \"))\n",
    "\n",
    "for i in range(1, num+1):\n",
    "    if num % i == 0:\n",
    "        # 약수임\n",
    "        print(i, end=' ')\n",
    "print()\n",
    "\n",
    "\n"
   ]
  },
  {
   "cell_type": "code",
   "execution_count": 91,
   "metadata": {},
   "outputs": [],
   "source": [
    "def get_divisor(n):\n",
    "    n = int(n)\n",
    "    divisors = []\n",
    "\n",
    "    for i in range(1, n + 1):\n",
    "        if (n % i == 0):            \n",
    "            divisors.append(i)            \n",
    "\n",
    "    return divisors"
   ]
  },
  {
   "cell_type": "code",
   "execution_count": null,
   "metadata": {},
   "outputs": [],
   "source": [
    "def get_divisor(n):\n",
    "    n = int(n)\n",
    "    divisors = []\n",
    "    divisors_back = [] \n",
    "\n",
    "    for i in range(1, int(n**(1/2)) + 1): \n",
    "        if (n % i == 0):            \n",
    "            divisors.append(i)\n",
    "            if (i != (n // i)): \n",
    "                divisors_back.append(n//i)\n",
    "\n",
    "    return divisors + divisors_back[::-1]"
   ]
  },
  {
   "cell_type": "code",
   "execution_count": null,
   "metadata": {},
   "outputs": [],
   "source": [
    "#약수 찾기\n",
    "num = 12\n",
    "for i in range(1, num+1):\n",
    "    if num % i == 0:\n",
    "        print(i)\n"
   ]
  },
  {
   "cell_type": "code",
   "execution_count": null,
   "metadata": {},
   "outputs": [],
   "source": [
    "#자기 자신을 제외한 약수의 값 \n",
    "sum = 0 \n",
    "for i in range(1,num):\n",
    "    if num % i == 0:\n",
    "        sum += i \n",
    "    print(sum )\n"
   ]
  },
  {
   "cell_type": "code",
   "execution_count": null,
   "metadata": {},
   "outputs": [],
   "source": [
    "for num in range(2, 10001):\n",
    "    sum = 0\n",
    "    for i in range(1, num):\n",
    "        if num % i == 0:\n",
    "            sum += i\n",
    "    if sum == num:\n",
    "        print(num)\n"
   ]
  },
  {
   "source": [
    "### 8\n",
    "### 1부터 10까지 자연수를 각각 제곱해 더하면 다음과 같다 (제곱의 합).  12 + 22 + ... + 102 = 385 \u000b1부터 10을 먼저 더한 다음에 그 결과를 제곱하면 다음과 같습니다 (합의 제곱). (1 + 2 + ... + 10)2 = 552 = 3025 \n",
    "### 따라서 1부터 10까지 자연수에 대해 \"합의 제곱\"과 \"제곱의 합\"의 차이는 3025 - 385 = 2640 이 된다. \n",
    "### 입력으로 자연수 N을 받아, 1부터 N까지 자연수에 대해 \"합의 제곱\"과 \"제곱의 합\"의 차이는 얼마인가?\n",
    "\n"
   ],
   "cell_type": "markdown",
   "metadata": {}
  },
  {
   "cell_type": "code",
   "execution_count": 100,
   "metadata": {},
   "outputs": [
    {
     "output_type": "stream",
     "name": "stdout",
     "text": [
      "2640\n"
     ]
    }
   ],
   "source": [
    "N=int(input(\"자연수를 입력하시오.\"))\n",
    "\n",
    "print(abs(sum(range(1, N+1))**2 - sum(i**2 for i in range(1, N+1))))"
   ]
  },
  {
   "cell_type": "code",
   "execution_count": null,
   "metadata": {},
   "outputs": [],
   "source": [
    "num = int(input('양의 정수 입력'))\n",
    "square_of_sum, sum_of_square, sum = 0, 0, 0\n",
    "for i in range(1, num+1):\n",
    "    sum_of_square += i*i\n",
    "    square_of_sum += i\n",
    "print(f'1에서 {num} 까지의 합의 제곱과 제곱의 합')\n",
    "print(f'합의 제곱: {square_of_sum**2}, 제곱의 합: {sum_of_square}')\n",
    "print(f'차이: {square_of_sum**2 - sum_of_square}')"
   ]
  }
 ]
}