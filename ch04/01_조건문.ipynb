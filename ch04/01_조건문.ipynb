{
 "metadata": {
  "language_info": {
   "codemirror_mode": {
    "name": "ipython",
    "version": 3
   },
   "file_extension": ".py",
   "mimetype": "text/x-python",
   "name": "python",
   "nbconvert_exporter": "python",
   "pygments_lexer": "ipython3",
   "version": "3.8.5"
  },
  "orig_nbformat": 2,
  "kernelspec": {
   "name": "python385jvsc74a57bd08c1eae21719a0790335dcb83aad72b63b602cfe5cdb2bda0f60bc11d4f154e4b",
   "display_name": "Python 3.8.5 64-bit ('base': conda)"
  }
 },
 "nbformat": 4,
 "nbformat_minor": 2,
 "cells": [
  {
   "source": [
    "# 조건문"
   ],
   "cell_type": "markdown",
   "metadata": {}
  },
  {
   "source": [
    "### if - else"
   ],
   "cell_type": "markdown",
   "metadata": {}
  },
  {
   "cell_type": "code",
   "execution_count": 5,
   "metadata": {},
   "outputs": [
    {
     "output_type": "stream",
     "name": "stdout",
     "text": [
      "Welcome to the Club\n"
     ]
    }
   ],
   "source": [
    "age = int(input(\"Tell me your age.\"))\n",
    "if age < 30:\n",
    "    print(\"Welcome to the Club\")\n",
    "else:\n",
    "    print(\"You are not accepted.\")"
   ]
  },
  {
   "cell_type": "code",
   "execution_count": 6,
   "metadata": {},
   "outputs": [
    {
     "output_type": "stream",
     "name": "stdout",
     "text": [
      "Welcome to the Club\n"
     ]
    }
   ],
   "source": [
    "age = int(input(\"Tell me your age.\"))\n",
    "if age > 15 and age < 30:\n",
    "    print(\"Welcome to the Club\")\n",
    "else:\n",
    "    print(\"You are not accepted.\")"
   ]
  },
  {
   "cell_type": "code",
   "execution_count": 14,
   "metadata": {},
   "outputs": [
    {
     "output_type": "stream",
     "name": "stdout",
     "text": [
      "Welcome to the Club\n"
     ]
    }
   ],
   "source": [
    "# 문장이 뒤에 하나가 나올 때는 붙여써도 됨!\n",
    "#조건문의 실행문이 단문일 경우에는 인덴테이션 무시해도 무방\n",
    "\n",
    "age = int(input(\"Tell me your age.\"))\n",
    "\n",
    "#조건식을 between 개념으로 사용할 수 있음\n",
    "# if 15< age < 30도 가능!\n",
    "\n",
    "if age > 15 and age < 30: print(\"Welcome to the Club\")\n",
    "else: print(\"You are not accepted.\")"
   ]
  },
  {
   "source": [
    "###  a is b"
   ],
   "cell_type": "markdown",
   "metadata": {}
  },
  {
   "cell_type": "code",
   "execution_count": 9,
   "metadata": {},
   "outputs": [
    {
     "output_type": "execute_result",
     "data": {
      "text/plain": [
       "False"
      ]
     },
     "metadata": {},
     "execution_count": 9
    }
   ],
   "source": [
    "a = 300\n",
    "b = 600\n",
    "#a is b\n",
    "a == b"
   ]
  },
  {
   "cell_type": "code",
   "execution_count": 10,
   "metadata": {},
   "outputs": [
    {
     "output_type": "execute_result",
     "data": {
      "text/plain": [
       "True"
      ]
     },
     "metadata": {},
     "execution_count": 10
    }
   ],
   "source": [
    "x = 5\n",
    "y = 5\n",
    "#x is y\n",
    "x == y"
   ]
  },
  {
   "cell_type": "code",
   "execution_count": 12,
   "metadata": {},
   "outputs": [
    {
     "output_type": "stream",
     "name": "stdout",
     "text": [
      "***\n"
     ]
    }
   ],
   "source": [
    "print(\"***\")"
   ]
  },
  {
   "source": [
    "\n",
    "# 3항 연산자\n",
    "\n",
    "#### 변수 = 값1 출력 if 조건 else 값2 출력\n",
    "#### print(변수)\n"
   ],
   "cell_type": "markdown",
   "metadata": {}
  },
  {
   "cell_type": "code",
   "execution_count": 18,
   "metadata": {},
   "outputs": [
    {
     "output_type": "stream",
     "name": "stdout",
     "text": [
      "Welcome to the Club\n"
     ]
    }
   ],
   "source": [
    "age = int(input(\"Tell me your age.\"))\n",
    "msg ='Welcome to the Club' if 15 < age < 30 else 'You are not accepted.'\n",
    "print(msg)"
   ]
  },
  {
   "source": [
    "### - 조건의 판단"
   ],
   "cell_type": "markdown",
   "metadata": {}
  },
  {
   "cell_type": "code",
   "execution_count": 19,
   "metadata": {},
   "outputs": [
    {
     "output_type": "execute_result",
     "data": {
      "text/plain": [
       "True"
      ]
     },
     "metadata": {},
     "execution_count": 19
    }
   ],
   "source": [
    "# or 앞쪽의 값이 True면 or 잏의 값은 계산하지 않음 \n",
    "3 == 3 or  99998            #앞이 True면 뒤에껀 실행도 x\n"
   ]
  },
  {
   "cell_type": "code",
   "execution_count": 20,
   "metadata": {},
   "outputs": [
    {
     "output_type": "execute_result",
     "data": {
      "text/plain": [
       "99998"
      ]
     },
     "metadata": {},
     "execution_count": 20
    }
   ],
   "source": [
    "# or 앞쪽의 값이 False면 or 연산의 값은 무조건 or 이후의 값\n",
    "3 == 4 or  99998 "
   ]
  },
  {
   "source": [
    "### if - else - else"
   ],
   "cell_type": "markdown",
   "metadata": {}
  },
  {
   "cell_type": "code",
   "execution_count": 26,
   "metadata": {},
   "outputs": [
    {
     "output_type": "stream",
     "name": "stdout",
     "text": [
      "F\n"
     ]
    }
   ],
   "source": [
    "# 조건의 포함 범위가 갈수록 커지는 방향으로 if문을 작성하면 틀림 \n",
    "\n",
    "score = 90\n",
    "if score >= 90:\n",
    "    grade = \"A\"\n",
    "if score >= 80:\n",
    "    grade = \"B\"\n",
    "if score >= 700:\n",
    "    grade = \"C\"\n",
    "if score >= 60:\n",
    "    grade = \"D\"\n",
    "if score >= 50:\n",
    "    grade = \"F\"\n",
    "print(grade)"
   ]
  },
  {
   "cell_type": "code",
   "execution_count": 27,
   "metadata": {},
   "outputs": [
    {
     "output_type": "stream",
     "name": "stdout",
     "text": [
      "D\n"
     ]
    }
   ],
   "source": [
    "# 해결책 1\n",
    "# 조건이 줄어드는 쪽으로 if문 생성해야함 \n",
    "\n",
    "score = 68\n",
    "if score >= 50: grade = \"F\"\n",
    "if score >= 60: grade = \"D\"\n",
    "if score >= 70: grade = \"C\"\n",
    "if score >= 80: grade = \"B\"\n",
    "if score >= 90: grade = \"A\"\n",
    "print(grade)"
   ]
  },
  {
   "cell_type": "code",
   "execution_count": 29,
   "metadata": {},
   "outputs": [
    {
     "output_type": "stream",
     "name": "stdout",
     "text": [
      "A\n"
     ]
    }
   ],
   "source": [
    "# 해결책 2 if - elif -else\n",
    "\n",
    "score = 90\n",
    "if score >= 90:\n",
    "    grade = \"A\"\n",
    "elif score >= 80:\n",
    "    grade = \"B\"\n",
    "elif score >= 70:\n",
    "    grade = \"C\"\n",
    "elif score >= 60:\n",
    "    grade = \"D\"\n",
    "else :\n",
    "    grade = \"F\"\n",
    "\n",
    "print(grade)"
   ]
  },
  {
   "cell_type": "code",
   "execution_count": 36,
   "metadata": {},
   "outputs": [
    {
     "output_type": "stream",
     "name": "stdout",
     "text": [
      "A\n"
     ]
    }
   ],
   "source": [
    "#삼항연산자로 만들어보기\n",
    "# grade: 값1 if 조건1 else 값2\n",
    "\n",
    "\n",
    "# 백슬러시 엔터 : 여러줄로 나누기 \n",
    "score = 91\n",
    "grade = \"A\" if score >= 90 else \\\n",
    "            \"B\" if score >=80 else \\\n",
    "                \"C\" if score>= 70 else \\\n",
    "                    \"D\" if score>= 60 else \"F\"\n",
    "print(grade)\n",
    "\n",
    "\n"
   ]
  },
  {
   "source": [
    "### 3) if 응용"
   ],
   "cell_type": "markdown",
   "metadata": {}
  },
  {
   "cell_type": "code",
   "execution_count": 39,
   "metadata": {},
   "outputs": [
    {
     "output_type": "execute_result",
     "data": {
      "text/plain": [
       "datetime.date(2021, 5, 24)"
      ]
     },
     "metadata": {},
     "execution_count": 39
    }
   ],
   "source": [
    "from datetime import date\n",
    "date.today()"
   ]
  },
  {
   "cell_type": "code",
   "execution_count": 40,
   "metadata": {},
   "outputs": [
    {
     "output_type": "execute_result",
     "data": {
      "text/plain": [
       "(2021, 5, 24)"
      ]
     },
     "metadata": {},
     "execution_count": 40
    }
   ],
   "source": [
    "today = date.today()\n",
    "today.year, today.month, today.day #년월일"
   ]
  },
  {
   "cell_type": "code",
   "execution_count": 43,
   "metadata": {},
   "outputs": [
    {
     "output_type": "stream",
     "name": "stdout",
     "text": [
      "대학생\n"
     ]
    }
   ],
   "source": [
    "birth_year = int(input('태어난 연도를 입력하세요.'))\n",
    "age = today.year - birth_year + 1\n",
    "\n",
    "if 20 <= age <= 26: print('대학생')\n",
    "elif 17 <= age <20: print('고등학생')\n",
    "elif 14 <= age <17: print('중학생')\n",
    "elif 8 <= age <14: print('초등학생')\n",
    "else: print('학생이 아님')"
   ]
  },
  {
   "cell_type": "code",
   "execution_count": 62,
   "metadata": {},
   "outputs": [
    {
     "output_type": "stream",
     "name": "stdout",
     "text": [
      "1\n2\nFizz\n4\nBuzz\nFizz\n7\n8\nFizz\nBuzz\n11\nFizz\n13\n14\nFizzBuzz\n16\n17\nFizz\n19\nBuzz\nFizz\n22\n23\nFizz\nBuzz\n26\nFizz\n28\n29\nFizzBuzz\n31\n32\nFizz\n34\nBuzz\nFizz\n37\n38\nFizz\nBuzz\n41\nFizz\n43\n44\nFizzBuzz\n46\n47\nFizz\n49\nBuzz\nFizz\n52\n53\nFizz\nBuzz\n56\nFizz\n58\n59\nFizzBuzz\n61\n62\nFizz\n64\nBuzz\nFizz\n67\n68\nFizz\nBuzz\n71\nFizz\n73\n74\nFizzBuzz\n76\n77\nFizz\n79\nBuzz\nFizz\n82\n83\nFizz\nBuzz\n86\nFizz\n88\n89\nFizzBuzz\n91\n92\nFizz\n94\nBuzz\nFizz\n97\n98\nFizz\nBuzz\n"
     ]
    }
   ],
   "source": [
    "# 3의 배수 5의 배수 15의 배수 아니면 숫자를 출력하여라.\n",
    "# 순서 주의! 15를 먼저해야함 \n",
    "\n",
    "for i in range(1,101):\n",
    "    if i % 15  == 0 :           # i % 3 == 0 and i % 5 == 0\n",
    "        print('FizzBuzz')\n",
    "    elif i % 3 == 0 :\n",
    "        print('Fizz')\n",
    "    elif i % 5 == 0 :\n",
    "        print(\"Buzz\")\n",
    "    else:\n",
    "        print(i)\n"
   ]
  },
  {
   "cell_type": "code",
   "execution_count": 64,
   "metadata": {},
   "outputs": [
    {
     "output_type": "stream",
     "name": "stdout",
     "text": [
      "1\n2\nFizz\n4\nBuzz\nFizz\n7\n8\nFizz\nBuzz\n11\nFizz\n13\n14\nFizzBuzz\n16\n17\nFizz\n19\nBuzz\nFizz\n22\n23\nFizz\nBuzz\n26\nFizz\n28\n29\nFizzBuzz\n31\n32\nFizz\n34\nBuzz\nFizz\n37\n38\nFizz\nBuzz\n41\nFizz\n43\n44\nFizzBuzz\n46\n47\nFizz\n49\nBuzz\nFizz\n52\n53\nFizz\nBuzz\n56\nFizz\n58\n59\nFizzBuzz\n61\n62\nFizz\n64\nBuzz\nFizz\n67\n68\nFizz\nBuzz\n71\nFizz\n73\n74\nFizzBuzz\n76\n77\nFizz\n79\nBuzz\nFizz\n82\n83\nFizz\nBuzz\n86\nFizz\n88\n89\nFizzBuzz\n91\n92\nFizz\n94\nBuzz\nFizz\n97\n98\nFizz\nBuzz\n"
     ]
    }
   ],
   "source": [
    "for i in range(1,101):\n",
    "    print('Fizz' * (i%3 == 0) + 'Buzz' * (i%5 == 0) or i ) # 15는 +로"
   ]
  },
  {
   "cell_type": "code",
   "execution_count": null,
   "metadata": {},
   "outputs": [],
   "source": []
  }
 ]
}